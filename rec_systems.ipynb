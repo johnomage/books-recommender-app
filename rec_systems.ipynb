{
  "cells": [
    {
      "cell_type": "markdown",
      "metadata": {},
      "source": [
        "# 1. Introduction\n",
        "\n",
        "This project aims to build a book recommendation system using collaborative filtering techniques. The dataset consists of user ratings for various books, alongside metadata such as book titles, authors, and publication years. The goal is to suggest books that users might enjoy based on their past reading preferences.\n",
        "\n",
        "Key Steps:\n",
        " - [**Data Preparation**](#data-preparation): Cleaning and preprocessing the raw data, including filtering out users with fewer than 200 ratings and books with fewer than 25 ratings. This ensures a robust dataset for training the recommendation model.\n",
        "\n",
        " - [**Creating Pivot Table**](#compressing-the-pivot-table): Constructing a user-item interaction matrix where rows represent book titles and columns represent user IDs. Each cell in the matrix contains the rating given by a user to a book.\n",
        "\n",
        " - [**Model Training**](#3-ml-modelling): Using the Nearest Neighbors algorithm to find similar books based on user ratings. The model is trained on the compressed pivot table to efficiently handle sparse data.\n",
        "\n",
        " - [**Saving Models and Data**](#4-saving-models-and-data): Persisting the trained model and preprocessed data to disk for later use in generating recommendations.\n",
        "\n",
        " - [**Making Recommendations**](#5-recommendation-function): Implementing a function to recommend books based on a given book title. This function uses the trained model to find and display similar books."
      ]
    },
    {
      "cell_type": "markdown",
      "metadata": {},
      "source": [
        "Import packages and libraries"
      ]
    },
    {
      "cell_type": "code",
      "execution_count": 105,
      "metadata": {
        "executionInfo": {
          "elapsed": 386,
          "status": "ok",
          "timestamp": 1718527291772,
          "user": {
            "displayName": "",
            "userId": ""
          },
          "user_tz": -60
        },
        "id": "pVEzLJNFvf34"
      },
      "outputs": [],
      "source": [
        "import numpy as np\n",
        "import pandas as pd\n",
        "from matplotlib import pyplot as plt\n",
        "from scipy.sparse import csr_matrix\n",
        "import gdown\n",
        "\n",
        "import warnings\n",
        "warnings.simplefilter('ignore')\n",
        "plt.style.use('ggplot')"
      ]
    },
    {
      "cell_type": "markdown",
      "metadata": {},
      "source": [
        "# 2. Data Preparation\n",
        "\n",
        " **Downloading and Loading Data**:\n",
        "\n",
        "The dataset is downloaded from a specified Google Drive folder. It includes three CSV files containing book metadata, user information, and book ratings.\n",
        "\n",
        "**Data Cleaning and Filtering**:\n",
        "\n",
        " - **Books Data**: The books dataset is filtered to include only necessary columns: ISBN, title, author, year of publication, publisher, and image URL.\n",
        " - **Users Data**: The users dataset is filtered and renamed for clarity.\n",
        " - **Ratings Data**: The ratings dataset is filtered to include users who have rated at least 200 books. This ensures that the model is trained on active users, providing more reliable recommendations.\n",
        "\n",
        "**Merging Data**:\n",
        "The ratings data is merged with the books data to associate ratings with book metadata.\n",
        "\n",
        "**Filtering Rare Books**:\n",
        "Books with fewer than 25 ratings are filtered out to ensure that the recommendations are based on widely-read books, which improves recommendation accuracy."
      ]
    },
    {
      "cell_type": "code",
      "execution_count": 2,
      "metadata": {},
      "outputs": [
        {
          "name": "stderr",
          "output_type": "stream",
          "text": [
            "Retrieving folder contents\n"
          ]
        },
        {
          "name": "stdout",
          "output_type": "stream",
          "text": [
            "Processing file 1G1rSROke65VAYY3ebHVJSGcmEr2lBZy0 BX-Book-Ratings.csv\n",
            "Processing file 10qSNLQeiUhCXLsf0TludrtbifaQVGfB4 BX-Books.csv\n",
            "Processing file 1yGs8Klh_e6eniCG9rmm_S6MDohW0D7QG BX-Users.csv\n"
          ]
        },
        {
          "name": "stderr",
          "output_type": "stream",
          "text": [
            "Retrieving folder contents completed\n",
            "Building directory structure\n",
            "Building directory structure completed\n",
            "Downloading...\n",
            "From: https://drive.google.com/uc?id=1G1rSROke65VAYY3ebHVJSGcmEr2lBZy0\n",
            "To: c:\\grow\\projects\\RecommendationSys\\datastore\\BX-Book-Ratings.csv\n",
            "100%|██████████| 30.7M/30.7M [00:04<00:00, 6.84MB/s]\n",
            "Downloading...\n",
            "From: https://drive.google.com/uc?id=10qSNLQeiUhCXLsf0TludrtbifaQVGfB4\n",
            "To: c:\\grow\\projects\\RecommendationSys\\datastore\\BX-Books.csv\n",
            "100%|██████████| 77.8M/77.8M [00:11<00:00, 6.71MB/s]\n",
            "Downloading...\n",
            "From: https://drive.google.com/uc?id=1yGs8Klh_e6eniCG9rmm_S6MDohW0D7QG\n",
            "To: c:\\grow\\projects\\RecommendationSys\\datastore\\BX-Users.csv\n",
            "100%|██████████| 12.3M/12.3M [00:01<00:00, 6.74MB/s]\n",
            "Download completed\n"
          ]
        },
        {
          "data": {
            "text/plain": [
              "['c:\\\\grow\\\\projects\\\\RecommendationSys\\\\datastore\\\\BX-Book-Ratings.csv',\n",
              " 'c:\\\\grow\\\\projects\\\\RecommendationSys\\\\datastore\\\\BX-Books.csv',\n",
              " 'c:\\\\grow\\\\projects\\\\RecommendationSys\\\\datastore\\\\BX-Users.csv']"
            ]
          },
          "execution_count": 2,
          "metadata": {},
          "output_type": "execute_result"
        }
      ],
      "source": [
        "gdown.download_folder(\"https://drive.google.com/drive/u/1/folders/1qLH0F0FcnUp95Ximwz-P961_BpfB4LDP\", quiet=True)"
      ]
    },
    {
      "cell_type": "markdown",
      "metadata": {},
      "source": [
        "Load books data"
      ]
    },
    {
      "cell_type": "code",
      "execution_count": 3,
      "metadata": {
        "colab": {
          "base_uri": "https://localhost:8080/",
          "height": 469
        },
        "executionInfo": {
          "elapsed": 2251,
          "status": "ok",
          "timestamp": 1718525870384,
          "user": {
            "displayName": "",
            "userId": ""
          },
          "user_tz": -60
        },
        "id": "9bxpisdwyPaN",
        "outputId": "ab995f8b-8fb2-4966-a95b-c33cfdce32f6"
      },
      "outputs": [
        {
          "data": {
            "text/html": [
              "<div>\n",
              "<style scoped>\n",
              "    .dataframe tbody tr th:only-of-type {\n",
              "        vertical-align: middle;\n",
              "    }\n",
              "\n",
              "    .dataframe tbody tr th {\n",
              "        vertical-align: top;\n",
              "    }\n",
              "\n",
              "    .dataframe thead th {\n",
              "        text-align: right;\n",
              "    }\n",
              "</style>\n",
              "<table border=\"1\" class=\"dataframe\">\n",
              "  <thead>\n",
              "    <tr style=\"text-align: right;\">\n",
              "      <th></th>\n",
              "      <th>ISBN</th>\n",
              "      <th>Book-Title</th>\n",
              "      <th>Book-Author</th>\n",
              "      <th>Year-Of-Publication</th>\n",
              "      <th>Publisher</th>\n",
              "      <th>Image-URL-S</th>\n",
              "      <th>Image-URL-M</th>\n",
              "      <th>Image-URL-L</th>\n",
              "    </tr>\n",
              "  </thead>\n",
              "  <tbody>\n",
              "    <tr>\n",
              "      <th>0</th>\n",
              "      <td>0195153448</td>\n",
              "      <td>Classical Mythology</td>\n",
              "      <td>Mark P. O. Morford</td>\n",
              "      <td>2002</td>\n",
              "      <td>Oxford University Press</td>\n",
              "      <td>http://images.amazon.com/images/P/0195153448.0...</td>\n",
              "      <td>http://images.amazon.com/images/P/0195153448.0...</td>\n",
              "      <td>http://images.amazon.com/images/P/0195153448.0...</td>\n",
              "    </tr>\n",
              "    <tr>\n",
              "      <th>1</th>\n",
              "      <td>0002005018</td>\n",
              "      <td>Clara Callan</td>\n",
              "      <td>Richard Bruce Wright</td>\n",
              "      <td>2001</td>\n",
              "      <td>HarperFlamingo Canada</td>\n",
              "      <td>http://images.amazon.com/images/P/0002005018.0...</td>\n",
              "      <td>http://images.amazon.com/images/P/0002005018.0...</td>\n",
              "      <td>http://images.amazon.com/images/P/0002005018.0...</td>\n",
              "    </tr>\n",
              "    <tr>\n",
              "      <th>2</th>\n",
              "      <td>0060973129</td>\n",
              "      <td>Decision in Normandy</td>\n",
              "      <td>Carlo D'Este</td>\n",
              "      <td>1991</td>\n",
              "      <td>HarperPerennial</td>\n",
              "      <td>http://images.amazon.com/images/P/0060973129.0...</td>\n",
              "      <td>http://images.amazon.com/images/P/0060973129.0...</td>\n",
              "      <td>http://images.amazon.com/images/P/0060973129.0...</td>\n",
              "    </tr>\n",
              "    <tr>\n",
              "      <th>3</th>\n",
              "      <td>0374157065</td>\n",
              "      <td>Flu: The Story of the Great Influenza Pandemic...</td>\n",
              "      <td>Gina Bari Kolata</td>\n",
              "      <td>1999</td>\n",
              "      <td>Farrar Straus Giroux</td>\n",
              "      <td>http://images.amazon.com/images/P/0374157065.0...</td>\n",
              "      <td>http://images.amazon.com/images/P/0374157065.0...</td>\n",
              "      <td>http://images.amazon.com/images/P/0374157065.0...</td>\n",
              "    </tr>\n",
              "    <tr>\n",
              "      <th>4</th>\n",
              "      <td>0393045218</td>\n",
              "      <td>The Mummies of Urumchi</td>\n",
              "      <td>E. J. W. Barber</td>\n",
              "      <td>1999</td>\n",
              "      <td>W. W. Norton &amp;amp; Company</td>\n",
              "      <td>http://images.amazon.com/images/P/0393045218.0...</td>\n",
              "      <td>http://images.amazon.com/images/P/0393045218.0...</td>\n",
              "      <td>http://images.amazon.com/images/P/0393045218.0...</td>\n",
              "    </tr>\n",
              "  </tbody>\n",
              "</table>\n",
              "</div>"
            ],
            "text/plain": [
              "         ISBN                                         Book-Title  \\\n",
              "0  0195153448                                Classical Mythology   \n",
              "1  0002005018                                       Clara Callan   \n",
              "2  0060973129                               Decision in Normandy   \n",
              "3  0374157065  Flu: The Story of the Great Influenza Pandemic...   \n",
              "4  0393045218                             The Mummies of Urumchi   \n",
              "\n",
              "            Book-Author Year-Of-Publication                   Publisher  \\\n",
              "0    Mark P. O. Morford                2002     Oxford University Press   \n",
              "1  Richard Bruce Wright                2001       HarperFlamingo Canada   \n",
              "2          Carlo D'Este                1991             HarperPerennial   \n",
              "3      Gina Bari Kolata                1999        Farrar Straus Giroux   \n",
              "4       E. J. W. Barber                1999  W. W. Norton &amp; Company   \n",
              "\n",
              "                                         Image-URL-S  \\\n",
              "0  http://images.amazon.com/images/P/0195153448.0...   \n",
              "1  http://images.amazon.com/images/P/0002005018.0...   \n",
              "2  http://images.amazon.com/images/P/0060973129.0...   \n",
              "3  http://images.amazon.com/images/P/0374157065.0...   \n",
              "4  http://images.amazon.com/images/P/0393045218.0...   \n",
              "\n",
              "                                         Image-URL-M  \\\n",
              "0  http://images.amazon.com/images/P/0195153448.0...   \n",
              "1  http://images.amazon.com/images/P/0002005018.0...   \n",
              "2  http://images.amazon.com/images/P/0060973129.0...   \n",
              "3  http://images.amazon.com/images/P/0374157065.0...   \n",
              "4  http://images.amazon.com/images/P/0393045218.0...   \n",
              "\n",
              "                                         Image-URL-L  \n",
              "0  http://images.amazon.com/images/P/0195153448.0...  \n",
              "1  http://images.amazon.com/images/P/0002005018.0...  \n",
              "2  http://images.amazon.com/images/P/0060973129.0...  \n",
              "3  http://images.amazon.com/images/P/0374157065.0...  \n",
              "4  http://images.amazon.com/images/P/0393045218.0...  "
            ]
          },
          "execution_count": 3,
          "metadata": {},
          "output_type": "execute_result"
        }
      ],
      "source": [
        "raw_books = pd.read_csv(\"datastore/BX-Books.csv\", on_bad_lines='skip', encoding='latin-1', sep=\";\")\n",
        "raw_books.head()"
      ]
    },
    {
      "cell_type": "code",
      "execution_count": 4,
      "metadata": {
        "colab": {
          "base_uri": "https://localhost:8080/"
        },
        "executionInfo": {
          "elapsed": 17,
          "status": "ok",
          "timestamp": 1718525870385,
          "user": {
            "displayName": "",
            "userId": ""
          },
          "user_tz": -60
        },
        "id": "hqyoMfmcylpj",
        "outputId": "e98b9132-8cc6-43b8-9553-8e410dca5fb5"
      },
      "outputs": [
        {
          "data": {
            "text/plain": [
              "Index(['ISBN', 'Book-Title', 'Book-Author', 'Year-Of-Publication', 'Publisher',\n",
              "       'Image-URL-S', 'Image-URL-M', 'Image-URL-L'],\n",
              "      dtype='object')"
            ]
          },
          "execution_count": 4,
          "metadata": {},
          "output_type": "execute_result"
        }
      ],
      "source": [
        "raw_books.columns"
      ]
    },
    {
      "cell_type": "code",
      "execution_count": 5,
      "metadata": {
        "executionInfo": {
          "elapsed": 14,
          "status": "ok",
          "timestamp": 1718525870385,
          "user": {
            "displayName": "",
            "userId": ""
          },
          "user_tz": -60
        },
        "id": "OYQ9LqNszzDC"
      },
      "outputs": [],
      "source": [
        "# fiters raw books by column to select relevant featues\n",
        "books = raw_books[[\"ISBN\", \"Book-Title\", \"Book-Author\", \"Year-Of-Publication\", \"Publisher\", \"Image-URL-L\"]]"
      ]
    },
    {
      "cell_type": "code",
      "execution_count": 98,
      "metadata": {
        "colab": {
          "base_uri": "https://localhost:8080/",
          "height": 382
        },
        "executionInfo": {
          "elapsed": 14,
          "status": "ok",
          "timestamp": 1718525870385,
          "user": {
            "displayName": "",
            "userId": ""
          },
          "user_tz": -60
        },
        "id": "EiGUg1AQzbEK",
        "outputId": "3f2478a4-c033-4493-b650-7b577c028c75"
      },
      "outputs": [
        {
          "data": {
            "text/html": [
              "<div>\n",
              "<style scoped>\n",
              "    .dataframe tbody tr th:only-of-type {\n",
              "        vertical-align: middle;\n",
              "    }\n",
              "\n",
              "    .dataframe tbody tr th {\n",
              "        vertical-align: top;\n",
              "    }\n",
              "\n",
              "    .dataframe thead th {\n",
              "        text-align: right;\n",
              "    }\n",
              "</style>\n",
              "<table border=\"1\" class=\"dataframe\">\n",
              "  <thead>\n",
              "    <tr style=\"text-align: right;\">\n",
              "      <th></th>\n",
              "      <th>ISBN</th>\n",
              "      <th>title</th>\n",
              "      <th>author</th>\n",
              "      <th>year</th>\n",
              "      <th>publisher</th>\n",
              "      <th>image_url</th>\n",
              "    </tr>\n",
              "  </thead>\n",
              "  <tbody>\n",
              "    <tr>\n",
              "      <th>0</th>\n",
              "      <td>0195153448</td>\n",
              "      <td>Classical Mythology</td>\n",
              "      <td>Mark P. O. Morford</td>\n",
              "      <td>2002</td>\n",
              "      <td>Oxford University Press</td>\n",
              "      <td>http://images.amazon.com/images/P/0195153448.0...</td>\n",
              "    </tr>\n",
              "    <tr>\n",
              "      <th>1</th>\n",
              "      <td>0002005018</td>\n",
              "      <td>Clara Callan</td>\n",
              "      <td>Richard Bruce Wright</td>\n",
              "      <td>2001</td>\n",
              "      <td>HarperFlamingo Canada</td>\n",
              "      <td>http://images.amazon.com/images/P/0002005018.0...</td>\n",
              "    </tr>\n",
              "    <tr>\n",
              "      <th>2</th>\n",
              "      <td>0060973129</td>\n",
              "      <td>Decision in Normandy</td>\n",
              "      <td>Carlo D'Este</td>\n",
              "      <td>1991</td>\n",
              "      <td>HarperPerennial</td>\n",
              "      <td>http://images.amazon.com/images/P/0060973129.0...</td>\n",
              "    </tr>\n",
              "    <tr>\n",
              "      <th>3</th>\n",
              "      <td>0374157065</td>\n",
              "      <td>Flu: The Story of the Great Influenza Pandemic...</td>\n",
              "      <td>Gina Bari Kolata</td>\n",
              "      <td>1999</td>\n",
              "      <td>Farrar Straus Giroux</td>\n",
              "      <td>http://images.amazon.com/images/P/0374157065.0...</td>\n",
              "    </tr>\n",
              "    <tr>\n",
              "      <th>4</th>\n",
              "      <td>0393045218</td>\n",
              "      <td>The Mummies of Urumchi</td>\n",
              "      <td>E. J. W. Barber</td>\n",
              "      <td>1999</td>\n",
              "      <td>W. W. Norton &amp;amp; Company</td>\n",
              "      <td>http://images.amazon.com/images/P/0393045218.0...</td>\n",
              "    </tr>\n",
              "  </tbody>\n",
              "</table>\n",
              "</div>"
            ],
            "text/plain": [
              "         ISBN                                              title  \\\n",
              "0  0195153448                                Classical Mythology   \n",
              "1  0002005018                                       Clara Callan   \n",
              "2  0060973129                               Decision in Normandy   \n",
              "3  0374157065  Flu: The Story of the Great Influenza Pandemic...   \n",
              "4  0393045218                             The Mummies of Urumchi   \n",
              "\n",
              "                 author  year                   publisher  \\\n",
              "0    Mark P. O. Morford  2002     Oxford University Press   \n",
              "1  Richard Bruce Wright  2001       HarperFlamingo Canada   \n",
              "2          Carlo D'Este  1991             HarperPerennial   \n",
              "3      Gina Bari Kolata  1999        Farrar Straus Giroux   \n",
              "4       E. J. W. Barber  1999  W. W. Norton &amp; Company   \n",
              "\n",
              "                                           image_url  \n",
              "0  http://images.amazon.com/images/P/0195153448.0...  \n",
              "1  http://images.amazon.com/images/P/0002005018.0...  \n",
              "2  http://images.amazon.com/images/P/0060973129.0...  \n",
              "3  http://images.amazon.com/images/P/0374157065.0...  \n",
              "4  http://images.amazon.com/images/P/0393045218.0...  "
            ]
          },
          "execution_count": 98,
          "metadata": {},
          "output_type": "execute_result"
        }
      ],
      "source": [
        "# rename feature names\n",
        "books.rename(columns={\"Book-Title\": \"title\",\n",
        "             \"Year-Of-Publication\": \"year\",\n",
        "              \"Image-URL-L\": \"image_url\",\n",
        "              \"Book-Author\": \"author\",\n",
        "              \"Publisher\": \"publisher\",\n",
        "              }, inplace=True)\n",
        "\n",
        "books.head()"
      ]
    },
    {
      "cell_type": "code",
      "execution_count": 7,
      "metadata": {
        "colab": {
          "base_uri": "https://localhost:8080/"
        },
        "executionInfo": {
          "elapsed": 11,
          "status": "ok",
          "timestamp": 1718525870385,
          "user": {
            "displayName": "",
            "userId": ""
          },
          "user_tz": -60
        },
        "id": "rtKKA2QI1rsQ",
        "outputId": "e5007324-cb37-427f-eff4-c3502555a75f"
      },
      "outputs": [
        {
          "data": {
            "text/plain": [
              "(271360, 6)"
            ]
          },
          "execution_count": 7,
          "metadata": {},
          "output_type": "execute_result"
        }
      ],
      "source": [
        "books.shape"
      ]
    },
    {
      "cell_type": "markdown",
      "metadata": {},
      "source": [
        "Load and explore `User` data"
      ]
    },
    {
      "cell_type": "code",
      "execution_count": 8,
      "metadata": {
        "colab": {
          "base_uri": "https://localhost:8080/",
          "height": 206
        },
        "executionInfo": {
          "elapsed": 290,
          "status": "ok",
          "timestamp": 1718525870665,
          "user": {
            "displayName": "",
            "userId": ""
          },
          "user_tz": -60
        },
        "id": "sFfPkLTR19sJ",
        "outputId": "1e36ab2c-9e4a-4b9e-e7c7-f76797087e20"
      },
      "outputs": [
        {
          "data": {
            "text/html": [
              "<div>\n",
              "<style scoped>\n",
              "    .dataframe tbody tr th:only-of-type {\n",
              "        vertical-align: middle;\n",
              "    }\n",
              "\n",
              "    .dataframe tbody tr th {\n",
              "        vertical-align: top;\n",
              "    }\n",
              "\n",
              "    .dataframe thead th {\n",
              "        text-align: right;\n",
              "    }\n",
              "</style>\n",
              "<table border=\"1\" class=\"dataframe\">\n",
              "  <thead>\n",
              "    <tr style=\"text-align: right;\">\n",
              "      <th></th>\n",
              "      <th>User-ID</th>\n",
              "      <th>Location</th>\n",
              "      <th>Age</th>\n",
              "    </tr>\n",
              "  </thead>\n",
              "  <tbody>\n",
              "    <tr>\n",
              "      <th>0</th>\n",
              "      <td>1</td>\n",
              "      <td>nyc, new york, usa</td>\n",
              "      <td>NaN</td>\n",
              "    </tr>\n",
              "    <tr>\n",
              "      <th>1</th>\n",
              "      <td>2</td>\n",
              "      <td>stockton, california, usa</td>\n",
              "      <td>18.0</td>\n",
              "    </tr>\n",
              "    <tr>\n",
              "      <th>2</th>\n",
              "      <td>3</td>\n",
              "      <td>moscow, yukon territory, russia</td>\n",
              "      <td>NaN</td>\n",
              "    </tr>\n",
              "    <tr>\n",
              "      <th>3</th>\n",
              "      <td>4</td>\n",
              "      <td>porto, v.n.gaia, portugal</td>\n",
              "      <td>17.0</td>\n",
              "    </tr>\n",
              "    <tr>\n",
              "      <th>4</th>\n",
              "      <td>5</td>\n",
              "      <td>farnborough, hants, united kingdom</td>\n",
              "      <td>NaN</td>\n",
              "    </tr>\n",
              "  </tbody>\n",
              "</table>\n",
              "</div>"
            ],
            "text/plain": [
              "   User-ID                            Location   Age\n",
              "0        1                  nyc, new york, usa   NaN\n",
              "1        2           stockton, california, usa  18.0\n",
              "2        3     moscow, yukon territory, russia   NaN\n",
              "3        4           porto, v.n.gaia, portugal  17.0\n",
              "4        5  farnborough, hants, united kingdom   NaN"
            ]
          },
          "execution_count": 8,
          "metadata": {},
          "output_type": "execute_result"
        }
      ],
      "source": [
        "users = pd.read_csv(\"./datastore/BX-Users.csv\", sep=\";\", encoding='latin-1')\n",
        "users.head()"
      ]
    },
    {
      "cell_type": "markdown",
      "metadata": {
        "id": "DwXkPbLe4zxS"
      },
      "source": [
        "rename column user id"
      ]
    },
    {
      "cell_type": "code",
      "execution_count": 9,
      "metadata": {
        "colab": {
          "base_uri": "https://localhost:8080/",
          "height": 206
        },
        "executionInfo": {
          "elapsed": 9,
          "status": "ok",
          "timestamp": 1718525870666,
          "user": {
            "displayName": "",
            "userId": ""
          },
          "user_tz": -60
        },
        "id": "smdXiWyr4zVj",
        "outputId": "6dfd6787-44af-4957-e803-005980bd9c5b"
      },
      "outputs": [
        {
          "data": {
            "text/html": [
              "<div>\n",
              "<style scoped>\n",
              "    .dataframe tbody tr th:only-of-type {\n",
              "        vertical-align: middle;\n",
              "    }\n",
              "\n",
              "    .dataframe tbody tr th {\n",
              "        vertical-align: top;\n",
              "    }\n",
              "\n",
              "    .dataframe thead th {\n",
              "        text-align: right;\n",
              "    }\n",
              "</style>\n",
              "<table border=\"1\" class=\"dataframe\">\n",
              "  <thead>\n",
              "    <tr style=\"text-align: right;\">\n",
              "      <th></th>\n",
              "      <th>user_id</th>\n",
              "      <th>Location</th>\n",
              "      <th>Age</th>\n",
              "    </tr>\n",
              "  </thead>\n",
              "  <tbody>\n",
              "    <tr>\n",
              "      <th>0</th>\n",
              "      <td>1</td>\n",
              "      <td>nyc, new york, usa</td>\n",
              "      <td>NaN</td>\n",
              "    </tr>\n",
              "    <tr>\n",
              "      <th>1</th>\n",
              "      <td>2</td>\n",
              "      <td>stockton, california, usa</td>\n",
              "      <td>18.0</td>\n",
              "    </tr>\n",
              "    <tr>\n",
              "      <th>2</th>\n",
              "      <td>3</td>\n",
              "      <td>moscow, yukon territory, russia</td>\n",
              "      <td>NaN</td>\n",
              "    </tr>\n",
              "    <tr>\n",
              "      <th>3</th>\n",
              "      <td>4</td>\n",
              "      <td>porto, v.n.gaia, portugal</td>\n",
              "      <td>17.0</td>\n",
              "    </tr>\n",
              "    <tr>\n",
              "      <th>4</th>\n",
              "      <td>5</td>\n",
              "      <td>farnborough, hants, united kingdom</td>\n",
              "      <td>NaN</td>\n",
              "    </tr>\n",
              "  </tbody>\n",
              "</table>\n",
              "</div>"
            ],
            "text/plain": [
              "   user_id                            Location   Age\n",
              "0        1                  nyc, new york, usa   NaN\n",
              "1        2           stockton, california, usa  18.0\n",
              "2        3     moscow, yukon territory, russia   NaN\n",
              "3        4           porto, v.n.gaia, portugal  17.0\n",
              "4        5  farnborough, hants, united kingdom   NaN"
            ]
          },
          "execution_count": 9,
          "metadata": {},
          "output_type": "execute_result"
        }
      ],
      "source": [
        "users.rename(columns={\"User-ID\": \"user_id\"}, inplace=True)\n",
        "users.head()"
      ]
    },
    {
      "cell_type": "code",
      "execution_count": 10,
      "metadata": {
        "colab": {
          "base_uri": "https://localhost:8080/"
        },
        "executionInfo": {
          "elapsed": 8,
          "status": "ok",
          "timestamp": 1718525870666,
          "user": {
            "displayName": "",
            "userId": ""
          },
          "user_tz": -60
        },
        "id": "yo07RNCu2YGV",
        "outputId": "a2c9cbdb-c9c6-4f82-b7b0-f32a7b0b25ed"
      },
      "outputs": [
        {
          "data": {
            "text/plain": [
              "(278858, 3)"
            ]
          },
          "execution_count": 10,
          "metadata": {},
          "output_type": "execute_result"
        }
      ],
      "source": [
        "users.shape"
      ]
    },
    {
      "cell_type": "markdown",
      "metadata": {},
      "source": [
        "Load and explore `Ratings` data"
      ]
    },
    {
      "cell_type": "code",
      "execution_count": 11,
      "metadata": {
        "colab": {
          "base_uri": "https://localhost:8080/",
          "height": 206
        },
        "executionInfo": {
          "elapsed": 866,
          "status": "ok",
          "timestamp": 1718525871525,
          "user": {
            "displayName": "",
            "userId": ""
          },
          "user_tz": -60
        },
        "id": "B3IFuat52qVD",
        "outputId": "2c7d14cb-53b3-4e90-f2ba-a7e2659457bf"
      },
      "outputs": [
        {
          "data": {
            "text/html": [
              "<div>\n",
              "<style scoped>\n",
              "    .dataframe tbody tr th:only-of-type {\n",
              "        vertical-align: middle;\n",
              "    }\n",
              "\n",
              "    .dataframe tbody tr th {\n",
              "        vertical-align: top;\n",
              "    }\n",
              "\n",
              "    .dataframe thead th {\n",
              "        text-align: right;\n",
              "    }\n",
              "</style>\n",
              "<table border=\"1\" class=\"dataframe\">\n",
              "  <thead>\n",
              "    <tr style=\"text-align: right;\">\n",
              "      <th></th>\n",
              "      <th>User-ID</th>\n",
              "      <th>ISBN</th>\n",
              "      <th>Book-Rating</th>\n",
              "    </tr>\n",
              "  </thead>\n",
              "  <tbody>\n",
              "    <tr>\n",
              "      <th>0</th>\n",
              "      <td>276725</td>\n",
              "      <td>034545104X</td>\n",
              "      <td>0</td>\n",
              "    </tr>\n",
              "    <tr>\n",
              "      <th>1</th>\n",
              "      <td>276726</td>\n",
              "      <td>0155061224</td>\n",
              "      <td>5</td>\n",
              "    </tr>\n",
              "    <tr>\n",
              "      <th>2</th>\n",
              "      <td>276727</td>\n",
              "      <td>0446520802</td>\n",
              "      <td>0</td>\n",
              "    </tr>\n",
              "    <tr>\n",
              "      <th>3</th>\n",
              "      <td>276729</td>\n",
              "      <td>052165615X</td>\n",
              "      <td>3</td>\n",
              "    </tr>\n",
              "    <tr>\n",
              "      <th>4</th>\n",
              "      <td>276729</td>\n",
              "      <td>0521795028</td>\n",
              "      <td>6</td>\n",
              "    </tr>\n",
              "  </tbody>\n",
              "</table>\n",
              "</div>"
            ],
            "text/plain": [
              "   User-ID        ISBN  Book-Rating\n",
              "0   276725  034545104X            0\n",
              "1   276726  0155061224            5\n",
              "2   276727  0446520802            0\n",
              "3   276729  052165615X            3\n",
              "4   276729  0521795028            6"
            ]
          },
          "execution_count": 11,
          "metadata": {},
          "output_type": "execute_result"
        }
      ],
      "source": [
        "ratings = pd.read_csv(\"./datastore/BX-Book-Ratings.csv\", sep=\";\", encoding='latin-1')\n",
        "ratings.head()"
      ]
    },
    {
      "cell_type": "markdown",
      "metadata": {
        "id": "IGxGXhwh5GvT"
      },
      "source": [
        "rename User-ID and book rating"
      ]
    },
    {
      "cell_type": "code",
      "execution_count": 12,
      "metadata": {
        "colab": {
          "base_uri": "https://localhost:8080/",
          "height": 206
        },
        "executionInfo": {
          "elapsed": 21,
          "status": "ok",
          "timestamp": 1718525871525,
          "user": {
            "displayName": "",
            "userId": ""
          },
          "user_tz": -60
        },
        "id": "w3Oc3Zxv5I8O",
        "outputId": "b0831ea7-56d1-4396-8e3d-80994e2d3548"
      },
      "outputs": [
        {
          "data": {
            "text/html": [
              "<div>\n",
              "<style scoped>\n",
              "    .dataframe tbody tr th:only-of-type {\n",
              "        vertical-align: middle;\n",
              "    }\n",
              "\n",
              "    .dataframe tbody tr th {\n",
              "        vertical-align: top;\n",
              "    }\n",
              "\n",
              "    .dataframe thead th {\n",
              "        text-align: right;\n",
              "    }\n",
              "</style>\n",
              "<table border=\"1\" class=\"dataframe\">\n",
              "  <thead>\n",
              "    <tr style=\"text-align: right;\">\n",
              "      <th></th>\n",
              "      <th>user_id</th>\n",
              "      <th>ISBN</th>\n",
              "      <th>rating</th>\n",
              "    </tr>\n",
              "  </thead>\n",
              "  <tbody>\n",
              "    <tr>\n",
              "      <th>0</th>\n",
              "      <td>276725</td>\n",
              "      <td>034545104X</td>\n",
              "      <td>0</td>\n",
              "    </tr>\n",
              "    <tr>\n",
              "      <th>1</th>\n",
              "      <td>276726</td>\n",
              "      <td>0155061224</td>\n",
              "      <td>5</td>\n",
              "    </tr>\n",
              "    <tr>\n",
              "      <th>2</th>\n",
              "      <td>276727</td>\n",
              "      <td>0446520802</td>\n",
              "      <td>0</td>\n",
              "    </tr>\n",
              "    <tr>\n",
              "      <th>3</th>\n",
              "      <td>276729</td>\n",
              "      <td>052165615X</td>\n",
              "      <td>3</td>\n",
              "    </tr>\n",
              "    <tr>\n",
              "      <th>4</th>\n",
              "      <td>276729</td>\n",
              "      <td>0521795028</td>\n",
              "      <td>6</td>\n",
              "    </tr>\n",
              "  </tbody>\n",
              "</table>\n",
              "</div>"
            ],
            "text/plain": [
              "   user_id        ISBN  rating\n",
              "0   276725  034545104X       0\n",
              "1   276726  0155061224       5\n",
              "2   276727  0446520802       0\n",
              "3   276729  052165615X       3\n",
              "4   276729  0521795028       6"
            ]
          },
          "execution_count": 12,
          "metadata": {},
          "output_type": "execute_result"
        }
      ],
      "source": [
        "ratings.rename(columns={\"User-ID\": \"user_id\", \"Book-Rating\": \"rating\"}, inplace=True)\n",
        "ratings.head()"
      ]
    },
    {
      "cell_type": "code",
      "execution_count": 13,
      "metadata": {
        "colab": {
          "base_uri": "https://localhost:8080/"
        },
        "executionInfo": {
          "elapsed": 19,
          "status": "ok",
          "timestamp": 1718525871525,
          "user": {
            "displayName": "",
            "userId": ""
          },
          "user_tz": -60
        },
        "id": "GPQIvxhq2vpe",
        "outputId": "5d3c16b5-9bda-4001-8ed5-43e9cbe93dcb"
      },
      "outputs": [
        {
          "data": {
            "text/plain": [
              "(1149780, 3)"
            ]
          },
          "execution_count": 13,
          "metadata": {},
          "output_type": "execute_result"
        }
      ],
      "source": [
        "ratings.shape"
      ]
    },
    {
      "cell_type": "code",
      "execution_count": 100,
      "metadata": {
        "colab": {
          "base_uri": "https://localhost:8080/"
        },
        "executionInfo": {
          "elapsed": 17,
          "status": "ok",
          "timestamp": 1718525871525,
          "user": {
            "displayName": "",
            "userId": ""
          },
          "user_tz": -60
        },
        "id": "qTtO6WgM20G0",
        "outputId": "ea425382-521f-4c15-c118-5d1cfc639c70"
      },
      "outputs": [
        {
          "name": "stdout",
          "output_type": "stream",
          "text": [
            "ratings distribution in %\n",
            "\n"
          ]
        },
        {
          "data": {
            "text/plain": [
              "rating\n",
              "0     74.656150\n",
              "8      5.984957\n",
              "10     5.382557\n",
              "9      4.463412\n",
              "7      4.004125\n",
              "5      3.014088\n",
              "6      1.715837\n",
              "4      0.338163\n",
              "3      0.217986\n",
              "2      0.119987\n",
              "1      0.102738\n",
              "Name: proportion, dtype: float64"
            ]
          },
          "execution_count": 100,
          "metadata": {},
          "output_type": "execute_result"
        }
      ],
      "source": [
        "print(\"ratings distribution in %\\n\")\n",
        "distribution_of_ratings = ratings['rating'].value_counts(normalize=True) * 100\n",
        "distribution_of_ratings"
      ]
    },
    {
      "cell_type": "code",
      "execution_count": 106,
      "metadata": {},
      "outputs": [
        {
          "data": {
            "image/png": "[encoded data removed]",
            "text/plain": [
              "<Figure size 640x480 with 1 Axes>"
            ]
          },
          "metadata": {},
          "output_type": "display_data"
        }
      ],
      "source": [
        "distribution_of_ratings.plot(kind='bar')\n",
        "plt.title('Distribution of Ratings')\n",
        "plt.ylabel('percentage');"
      ]
    },
    {
      "cell_type": "markdown",
      "metadata": {},
      "source": [
        "From the chart above, 74% of books are either not rated or users had no interest in these book. Only a little above 5% got full rating of 10"
      ]
    },
    {
      "cell_type": "markdown",
      "metadata": {
        "id": "m7Y6m4jC0Jok"
      },
      "source": [
        "Number of users who have rated at least 200 books. Using 200 books as the minimum for active readers."
      ]
    },
    {
      "cell_type": "code",
      "execution_count": 15,
      "metadata": {
        "colab": {
          "base_uri": "https://localhost:8080/"
        },
        "executionInfo": {
          "elapsed": 17,
          "status": "ok",
          "timestamp": 1718525871526,
          "user": {
            "displayName": "",
            "userId": ""
          },
          "user_tz": -60
        },
        "id": "gkhntz862RxD",
        "outputId": "fc66be96-93dc-41f6-ff73-9f3346e98425"
      },
      "outputs": [
        {
          "data": {
            "text/plain": [
              "Index([ 11676, 198711, 153662,  98391,  35859, 212898, 278418,  76352, 110973,\n",
              "       235105,\n",
              "       ...\n",
              "        28634,  59727, 268622, 188951, 225595,  83671, 252827,  99955,  36554,\n",
              "        26883],\n",
              "      dtype='int64', name='user_id', length=905)"
            ]
          },
          "execution_count": 15,
          "metadata": {},
          "output_type": "execute_result"
        }
      ],
      "source": [
        "is_above_200 = ratings['user_id'].value_counts() >= 200\n",
        "least_200_index = is_above_200[is_above_200].index\n",
        "least_200_index"
      ]
    },
    {
      "cell_type": "code",
      "execution_count": 17,
      "metadata": {
        "colab": {
          "base_uri": "https://localhost:8080/"
        },
        "executionInfo": {
          "elapsed": 14,
          "status": "ok",
          "timestamp": 1718525871526,
          "user": {
            "displayName": "",
            "userId": ""
          },
          "user_tz": -60
        },
        "id": "HSjDAsrU04SV",
        "outputId": "3234890d-5a76-4b6c-9d3e-f5d031a63612"
      },
      "outputs": [
        {
          "data": {
            "text/plain": [
              "905"
            ]
          },
          "execution_count": 17,
          "metadata": {},
          "output_type": "execute_result"
        }
      ],
      "source": [
        "len(least_200_index)"
      ]
    },
    {
      "cell_type": "markdown",
      "metadata": {},
      "source": [
        "There are 905 active unique users who have rated at least 200 books.\n",
        "\n",
        "Next,  filter the ratings dataFrame to include only those ratings made by users who have rated at least 200 books"
      ]
    },
    {
      "cell_type": "code",
      "execution_count": 18,
      "metadata": {
        "executionInfo": {
          "elapsed": 13,
          "status": "ok",
          "timestamp": 1718525871526,
          "user": {
            "displayName": "",
            "userId": ""
          },
          "user_tz": -60
        },
        "id": "UTLWH2PY0RwF"
      },
      "outputs": [],
      "source": [
        "ratings = ratings[ratings['user_id'].isin(least_200_index)]"
      ]
    },
    {
      "cell_type": "code",
      "execution_count": 19,
      "metadata": {
        "colab": {
          "base_uri": "https://localhost:8080/",
          "height": 206
        },
        "executionInfo": {
          "elapsed": 14,
          "status": "ok",
          "timestamp": 1718525871527,
          "user": {
            "displayName": "",
            "userId": ""
          },
          "user_tz": -60
        },
        "id": "cEvtb0nAF7DY",
        "outputId": "0ed7dda9-90bd-44f6-de8c-11a4f415bb73"
      },
      "outputs": [
        {
          "data": {
            "text/html": [
              "<div>\n",
              "<style scoped>\n",
              "    .dataframe tbody tr th:only-of-type {\n",
              "        vertical-align: middle;\n",
              "    }\n",
              "\n",
              "    .dataframe tbody tr th {\n",
              "        vertical-align: top;\n",
              "    }\n",
              "\n",
              "    .dataframe thead th {\n",
              "        text-align: right;\n",
              "    }\n",
              "</style>\n",
              "<table border=\"1\" class=\"dataframe\">\n",
              "  <thead>\n",
              "    <tr style=\"text-align: right;\">\n",
              "      <th></th>\n",
              "      <th>user_id</th>\n",
              "      <th>ISBN</th>\n",
              "      <th>rating</th>\n",
              "    </tr>\n",
              "  </thead>\n",
              "  <tbody>\n",
              "    <tr>\n",
              "      <th>1456</th>\n",
              "      <td>277427</td>\n",
              "      <td>002542730X</td>\n",
              "      <td>10</td>\n",
              "    </tr>\n",
              "    <tr>\n",
              "      <th>1457</th>\n",
              "      <td>277427</td>\n",
              "      <td>0026217457</td>\n",
              "      <td>0</td>\n",
              "    </tr>\n",
              "    <tr>\n",
              "      <th>1458</th>\n",
              "      <td>277427</td>\n",
              "      <td>003008685X</td>\n",
              "      <td>8</td>\n",
              "    </tr>\n",
              "    <tr>\n",
              "      <th>1459</th>\n",
              "      <td>277427</td>\n",
              "      <td>0030615321</td>\n",
              "      <td>0</td>\n",
              "    </tr>\n",
              "    <tr>\n",
              "      <th>1460</th>\n",
              "      <td>277427</td>\n",
              "      <td>0060002050</td>\n",
              "      <td>0</td>\n",
              "    </tr>\n",
              "  </tbody>\n",
              "</table>\n",
              "</div>"
            ],
            "text/plain": [
              "      user_id        ISBN  rating\n",
              "1456   277427  002542730X      10\n",
              "1457   277427  0026217457       0\n",
              "1458   277427  003008685X       8\n",
              "1459   277427  0030615321       0\n",
              "1460   277427  0060002050       0"
            ]
          },
          "execution_count": 19,
          "metadata": {},
          "output_type": "execute_result"
        }
      ],
      "source": [
        "ratings.head()"
      ]
    },
    {
      "cell_type": "markdown",
      "metadata": {
        "id": "8IY741OjGYIo"
      },
      "source": [
        "Next merge rating with books on `ISBN`"
      ]
    },
    {
      "cell_type": "code",
      "execution_count": 20,
      "metadata": {
        "colab": {
          "base_uri": "https://localhost:8080/",
          "height": 275
        },
        "executionInfo": {
          "elapsed": 13,
          "status": "ok",
          "timestamp": 1718525871527,
          "user": {
            "displayName": "",
            "userId": ""
          },
          "user_tz": -60
        },
        "id": "Dsnkl8JdF8rG",
        "outputId": "0c15583a-2a8c-485d-b9b6-3f059e44686b"
      },
      "outputs": [
        {
          "data": {
            "text/html": [
              "<div>\n",
              "<style scoped>\n",
              "    .dataframe tbody tr th:only-of-type {\n",
              "        vertical-align: middle;\n",
              "    }\n",
              "\n",
              "    .dataframe tbody tr th {\n",
              "        vertical-align: top;\n",
              "    }\n",
              "\n",
              "    .dataframe thead th {\n",
              "        text-align: right;\n",
              "    }\n",
              "</style>\n",
              "<table border=\"1\" class=\"dataframe\">\n",
              "  <thead>\n",
              "    <tr style=\"text-align: right;\">\n",
              "      <th></th>\n",
              "      <th>ISBN</th>\n",
              "      <th>title</th>\n",
              "      <th>author</th>\n",
              "      <th>year</th>\n",
              "      <th>publisher</th>\n",
              "      <th>image_url</th>\n",
              "    </tr>\n",
              "  </thead>\n",
              "  <tbody>\n",
              "    <tr>\n",
              "      <th>0</th>\n",
              "      <td>0195153448</td>\n",
              "      <td>Classical Mythology</td>\n",
              "      <td>Mark P. O. Morford</td>\n",
              "      <td>2002</td>\n",
              "      <td>Oxford University Press</td>\n",
              "      <td>http://images.amazon.com/images/P/0195153448.0...</td>\n",
              "    </tr>\n",
              "    <tr>\n",
              "      <th>1</th>\n",
              "      <td>0002005018</td>\n",
              "      <td>Clara Callan</td>\n",
              "      <td>Richard Bruce Wright</td>\n",
              "      <td>2001</td>\n",
              "      <td>HarperFlamingo Canada</td>\n",
              "      <td>http://images.amazon.com/images/P/0002005018.0...</td>\n",
              "    </tr>\n",
              "    <tr>\n",
              "      <th>2</th>\n",
              "      <td>0060973129</td>\n",
              "      <td>Decision in Normandy</td>\n",
              "      <td>Carlo D'Este</td>\n",
              "      <td>1991</td>\n",
              "      <td>HarperPerennial</td>\n",
              "      <td>http://images.amazon.com/images/P/0060973129.0...</td>\n",
              "    </tr>\n",
              "    <tr>\n",
              "      <th>3</th>\n",
              "      <td>0374157065</td>\n",
              "      <td>Flu: The Story of the Great Influenza Pandemic...</td>\n",
              "      <td>Gina Bari Kolata</td>\n",
              "      <td>1999</td>\n",
              "      <td>Farrar Straus Giroux</td>\n",
              "      <td>http://images.amazon.com/images/P/0374157065.0...</td>\n",
              "    </tr>\n",
              "    <tr>\n",
              "      <th>4</th>\n",
              "      <td>0393045218</td>\n",
              "      <td>The Mummies of Urumchi</td>\n",
              "      <td>E. J. W. Barber</td>\n",
              "      <td>1999</td>\n",
              "      <td>W. W. Norton &amp;amp; Company</td>\n",
              "      <td>http://images.amazon.com/images/P/0393045218.0...</td>\n",
              "    </tr>\n",
              "  </tbody>\n",
              "</table>\n",
              "</div>"
            ],
            "text/plain": [
              "         ISBN                                              title  \\\n",
              "0  0195153448                                Classical Mythology   \n",
              "1  0002005018                                       Clara Callan   \n",
              "2  0060973129                               Decision in Normandy   \n",
              "3  0374157065  Flu: The Story of the Great Influenza Pandemic...   \n",
              "4  0393045218                             The Mummies of Urumchi   \n",
              "\n",
              "                 author  year                   publisher  \\\n",
              "0    Mark P. O. Morford  2002     Oxford University Press   \n",
              "1  Richard Bruce Wright  2001       HarperFlamingo Canada   \n",
              "2          Carlo D'Este  1991             HarperPerennial   \n",
              "3      Gina Bari Kolata  1999        Farrar Straus Giroux   \n",
              "4       E. J. W. Barber  1999  W. W. Norton &amp; Company   \n",
              "\n",
              "                                           image_url  \n",
              "0  http://images.amazon.com/images/P/0195153448.0...  \n",
              "1  http://images.amazon.com/images/P/0002005018.0...  \n",
              "2  http://images.amazon.com/images/P/0060973129.0...  \n",
              "3  http://images.amazon.com/images/P/0374157065.0...  \n",
              "4  http://images.amazon.com/images/P/0393045218.0...  "
            ]
          },
          "execution_count": 20,
          "metadata": {},
          "output_type": "execute_result"
        }
      ],
      "source": [
        "books.head()"
      ]
    },
    {
      "cell_type": "code",
      "execution_count": 21,
      "metadata": {
        "colab": {
          "base_uri": "https://localhost:8080/",
          "height": 379
        },
        "executionInfo": {
          "elapsed": 680,
          "status": "ok",
          "timestamp": 1718525872195,
          "user": {
            "displayName": "",
            "userId": ""
          },
          "user_tz": -60
        },
        "id": "u6Cjf9XIGf8S",
        "outputId": "dae5dd61-c650-4f37-a91d-d127351b5130"
      },
      "outputs": [
        {
          "data": {
            "text/html": [
              "<div>\n",
              "<style scoped>\n",
              "    .dataframe tbody tr th:only-of-type {\n",
              "        vertical-align: middle;\n",
              "    }\n",
              "\n",
              "    .dataframe tbody tr th {\n",
              "        vertical-align: top;\n",
              "    }\n",
              "\n",
              "    .dataframe thead th {\n",
              "        text-align: right;\n",
              "    }\n",
              "</style>\n",
              "<table border=\"1\" class=\"dataframe\">\n",
              "  <thead>\n",
              "    <tr style=\"text-align: right;\">\n",
              "      <th></th>\n",
              "      <th>user_id</th>\n",
              "      <th>ISBN</th>\n",
              "      <th>rating</th>\n",
              "      <th>title</th>\n",
              "      <th>author</th>\n",
              "      <th>year</th>\n",
              "      <th>publisher</th>\n",
              "      <th>image_url</th>\n",
              "    </tr>\n",
              "  </thead>\n",
              "  <tbody>\n",
              "    <tr>\n",
              "      <th>0</th>\n",
              "      <td>277427</td>\n",
              "      <td>002542730X</td>\n",
              "      <td>10</td>\n",
              "      <td>Politically Correct Bedtime Stories: Modern Ta...</td>\n",
              "      <td>James Finn Garner</td>\n",
              "      <td>1994</td>\n",
              "      <td>John Wiley &amp;amp; Sons Inc</td>\n",
              "      <td>http://images.amazon.com/images/P/002542730X.0...</td>\n",
              "    </tr>\n",
              "    <tr>\n",
              "      <th>1</th>\n",
              "      <td>277427</td>\n",
              "      <td>0026217457</td>\n",
              "      <td>0</td>\n",
              "      <td>Vegetarian Times Complete Cookbook</td>\n",
              "      <td>Lucy  Moll</td>\n",
              "      <td>1995</td>\n",
              "      <td>John Wiley &amp;amp; Sons</td>\n",
              "      <td>http://images.amazon.com/images/P/0026217457.0...</td>\n",
              "    </tr>\n",
              "    <tr>\n",
              "      <th>2</th>\n",
              "      <td>277427</td>\n",
              "      <td>003008685X</td>\n",
              "      <td>8</td>\n",
              "      <td>Pioneers</td>\n",
              "      <td>James Fenimore Cooper</td>\n",
              "      <td>1974</td>\n",
              "      <td>Thomson Learning</td>\n",
              "      <td>http://images.amazon.com/images/P/003008685X.0...</td>\n",
              "    </tr>\n",
              "    <tr>\n",
              "      <th>3</th>\n",
              "      <td>277427</td>\n",
              "      <td>0030615321</td>\n",
              "      <td>0</td>\n",
              "      <td>Ask for May, Settle for June (A Doonesbury book)</td>\n",
              "      <td>G. B. Trudeau</td>\n",
              "      <td>1982</td>\n",
              "      <td>Henry Holt &amp;amp; Co</td>\n",
              "      <td>http://images.amazon.com/images/P/0030615321.0...</td>\n",
              "    </tr>\n",
              "    <tr>\n",
              "      <th>4</th>\n",
              "      <td>277427</td>\n",
              "      <td>0060002050</td>\n",
              "      <td>0</td>\n",
              "      <td>On a Wicked Dawn (Cynster Novels)</td>\n",
              "      <td>Stephanie Laurens</td>\n",
              "      <td>2002</td>\n",
              "      <td>Avon Books</td>\n",
              "      <td>http://images.amazon.com/images/P/0060002050.0...</td>\n",
              "    </tr>\n",
              "  </tbody>\n",
              "</table>\n",
              "</div>"
            ],
            "text/plain": [
              "   user_id        ISBN  rating  \\\n",
              "0   277427  002542730X      10   \n",
              "1   277427  0026217457       0   \n",
              "2   277427  003008685X       8   \n",
              "3   277427  0030615321       0   \n",
              "4   277427  0060002050       0   \n",
              "\n",
              "                                               title                 author  \\\n",
              "0  Politically Correct Bedtime Stories: Modern Ta...      James Finn Garner   \n",
              "1                 Vegetarian Times Complete Cookbook             Lucy  Moll   \n",
              "2                                           Pioneers  James Fenimore Cooper   \n",
              "3   Ask for May, Settle for June (A Doonesbury book)          G. B. Trudeau   \n",
              "4                  On a Wicked Dawn (Cynster Novels)      Stephanie Laurens   \n",
              "\n",
              "   year                  publisher  \\\n",
              "0  1994  John Wiley &amp; Sons Inc   \n",
              "1  1995      John Wiley &amp; Sons   \n",
              "2  1974           Thomson Learning   \n",
              "3  1982        Henry Holt &amp; Co   \n",
              "4  2002                 Avon Books   \n",
              "\n",
              "                                           image_url  \n",
              "0  http://images.amazon.com/images/P/002542730X.0...  \n",
              "1  http://images.amazon.com/images/P/0026217457.0...  \n",
              "2  http://images.amazon.com/images/P/003008685X.0...  \n",
              "3  http://images.amazon.com/images/P/0030615321.0...  \n",
              "4  http://images.amazon.com/images/P/0060002050.0...  "
            ]
          },
          "execution_count": 21,
          "metadata": {},
          "output_type": "execute_result"
        }
      ],
      "source": [
        "book_ratings = ratings.merge(books, on='ISBN')\n",
        "book_ratings.head()"
      ]
    },
    {
      "cell_type": "code",
      "execution_count": 22,
      "metadata": {
        "colab": {
          "base_uri": "https://localhost:8080/"
        },
        "executionInfo": {
          "elapsed": 5,
          "status": "ok",
          "timestamp": 1718525872195,
          "user": {
            "displayName": "",
            "userId": ""
          },
          "user_tz": -60
        },
        "id": "3O8nocQRG-Zo",
        "outputId": "3b5444a7-c02d-43c6-b343-4f272e89dc2c"
      },
      "outputs": [
        {
          "data": {
            "text/plain": [
              "(488742, 8)"
            ]
          },
          "execution_count": 22,
          "metadata": {},
          "output_type": "execute_result"
        }
      ],
      "source": [
        "book_ratings.shape"
      ]
    },
    {
      "cell_type": "code",
      "execution_count": 23,
      "metadata": {
        "colab": {
          "base_uri": "https://localhost:8080/"
        },
        "executionInfo": {
          "elapsed": 325,
          "status": "ok",
          "timestamp": 1718525872518,
          "user": {
            "displayName": "",
            "userId": ""
          },
          "user_tz": -60
        },
        "id": "wE-ZUny8HFwi",
        "outputId": "85caae12-e533-47c4-801b-f21df53cc8af"
      },
      "outputs": [
        {
          "data": {
            "text/plain": [
              "user_id      0\n",
              "ISBN         0\n",
              "rating       0\n",
              "title        0\n",
              "author       1\n",
              "year         0\n",
              "publisher    2\n",
              "image_url    3\n",
              "dtype: int64"
            ]
          },
          "execution_count": 23,
          "metadata": {},
          "output_type": "execute_result"
        }
      ],
      "source": [
        "book_ratings.isna().sum()"
      ]
    },
    {
      "cell_type": "code",
      "execution_count": 24,
      "metadata": {
        "colab": {
          "base_uri": "https://localhost:8080/",
          "height": 206
        },
        "executionInfo": {
          "elapsed": 295,
          "status": "ok",
          "timestamp": 1718525872811,
          "user": {
            "displayName": "",
            "userId": ""
          },
          "user_tz": -60
        },
        "id": "LUDcCvXzH_Ok",
        "outputId": "1861d88c-b5d4-41b2-ddc5-5c1ab26f2fe1"
      },
      "outputs": [
        {
          "data": {
            "text/html": [
              "<div>\n",
              "<style scoped>\n",
              "    .dataframe tbody tr th:only-of-type {\n",
              "        vertical-align: middle;\n",
              "    }\n",
              "\n",
              "    .dataframe tbody tr th {\n",
              "        vertical-align: top;\n",
              "    }\n",
              "\n",
              "    .dataframe thead th {\n",
              "        text-align: right;\n",
              "    }\n",
              "</style>\n",
              "<table border=\"1\" class=\"dataframe\">\n",
              "  <thead>\n",
              "    <tr style=\"text-align: right;\">\n",
              "      <th></th>\n",
              "      <th>title</th>\n",
              "      <th>rating</th>\n",
              "    </tr>\n",
              "  </thead>\n",
              "  <tbody>\n",
              "    <tr>\n",
              "      <th>0</th>\n",
              "      <td>A Light in the Storm: The Civil War Diary of ...</td>\n",
              "      <td>2</td>\n",
              "    </tr>\n",
              "    <tr>\n",
              "      <th>1</th>\n",
              "      <td>Always Have Popsicles</td>\n",
              "      <td>1</td>\n",
              "    </tr>\n",
              "    <tr>\n",
              "      <th>2</th>\n",
              "      <td>Apple Magic (The Collector's series)</td>\n",
              "      <td>1</td>\n",
              "    </tr>\n",
              "    <tr>\n",
              "      <th>3</th>\n",
              "      <td>Beyond IBM: Leadership Marketing and Finance ...</td>\n",
              "      <td>1</td>\n",
              "    </tr>\n",
              "    <tr>\n",
              "      <th>4</th>\n",
              "      <td>Clifford Visita El Hospital (Clifford El Gran...</td>\n",
              "      <td>1</td>\n",
              "    </tr>\n",
              "  </tbody>\n",
              "</table>\n",
              "</div>"
            ],
            "text/plain": [
              "                                               title  rating\n",
              "0   A Light in the Storm: The Civil War Diary of ...       2\n",
              "1                              Always Have Popsicles       1\n",
              "2               Apple Magic (The Collector's series)       1\n",
              "3   Beyond IBM: Leadership Marketing and Finance ...       1\n",
              "4   Clifford Visita El Hospital (Clifford El Gran...       1"
            ]
          },
          "execution_count": 24,
          "metadata": {},
          "output_type": "execute_result"
        }
      ],
      "source": [
        "count_book_ratings = book_ratings.groupby('title')['rating'].count().reset_index()\n",
        "count_book_ratings.head()"
      ]
    },
    {
      "cell_type": "code",
      "execution_count": 25,
      "metadata": {
        "executionInfo": {
          "elapsed": 6,
          "status": "ok",
          "timestamp": 1718525872812,
          "user": {
            "displayName": "",
            "userId": ""
          },
          "user_tz": -60
        },
        "id": "Oq_7Rcr7Ij6W"
      },
      "outputs": [],
      "source": [
        "count_book_ratings.rename(columns={'rating': 'rating_count'}, inplace=True)"
      ]
    },
    {
      "cell_type": "code",
      "execution_count": 26,
      "metadata": {
        "colab": {
          "base_uri": "https://localhost:8080/"
        },
        "executionInfo": {
          "elapsed": 308,
          "status": "ok",
          "timestamp": 1718525873115,
          "user": {
            "displayName": "",
            "userId": ""
          },
          "user_tz": -60
        },
        "id": "kkdcmb9AI_7t",
        "outputId": "fb79fa85-c701-44ca-ecc5-a642ba5637ce"
      },
      "outputs": [
        {
          "data": {
            "text/plain": [
              "Index(['title', 'rating_count'], dtype='object')"
            ]
          },
          "execution_count": 26,
          "metadata": {},
          "output_type": "execute_result"
        }
      ],
      "source": [
        "count_book_ratings.columns"
      ]
    },
    {
      "cell_type": "code",
      "execution_count": 27,
      "metadata": {
        "colab": {
          "base_uri": "https://localhost:8080/",
          "height": 434
        },
        "executionInfo": {
          "elapsed": 347,
          "status": "ok",
          "timestamp": 1718525873459,
          "user": {
            "displayName": "",
            "userId": ""
          },
          "user_tz": -60
        },
        "id": "ph5QY7wPJEwZ",
        "outputId": "4f233775-3786-48d7-bea1-adff31e75d04"
      },
      "outputs": [
        {
          "data": {
            "text/html": [
              "<div>\n",
              "<style scoped>\n",
              "    .dataframe tbody tr th:only-of-type {\n",
              "        vertical-align: middle;\n",
              "    }\n",
              "\n",
              "    .dataframe tbody tr th {\n",
              "        vertical-align: top;\n",
              "    }\n",
              "\n",
              "    .dataframe thead th {\n",
              "        text-align: right;\n",
              "    }\n",
              "</style>\n",
              "<table border=\"1\" class=\"dataframe\">\n",
              "  <thead>\n",
              "    <tr style=\"text-align: right;\">\n",
              "      <th></th>\n",
              "      <th>user_id</th>\n",
              "      <th>ISBN</th>\n",
              "      <th>rating</th>\n",
              "      <th>title</th>\n",
              "      <th>author</th>\n",
              "      <th>year</th>\n",
              "      <th>publisher</th>\n",
              "      <th>image_url</th>\n",
              "      <th>rating_count</th>\n",
              "    </tr>\n",
              "  </thead>\n",
              "  <tbody>\n",
              "    <tr>\n",
              "      <th>266647</th>\n",
              "      <td>153662</td>\n",
              "      <td>0688168914</td>\n",
              "      <td>0</td>\n",
              "      <td>From This Day Forward</td>\n",
              "      <td>Cokie Roberts</td>\n",
              "      <td>2000</td>\n",
              "      <td>William Morrow &amp;amp; Company</td>\n",
              "      <td>http://images.amazon.com/images/P/0688168914.0...</td>\n",
              "      <td>5</td>\n",
              "    </tr>\n",
              "    <tr>\n",
              "      <th>102989</th>\n",
              "      <td>55492</td>\n",
              "      <td>0679441018</td>\n",
              "      <td>0</td>\n",
              "      <td>Memnoch the Devil : The Vampire Chronicles (Va...</td>\n",
              "      <td>ANNE RICE</td>\n",
              "      <td>1995</td>\n",
              "      <td>Knopf</td>\n",
              "      <td>http://images.amazon.com/images/P/0679441018.0...</td>\n",
              "      <td>28</td>\n",
              "    </tr>\n",
              "    <tr>\n",
              "      <th>317094</th>\n",
              "      <td>184299</td>\n",
              "      <td>0060914254</td>\n",
              "      <td>0</td>\n",
              "      <td>A Loss for Words : The Story of Deafness in a ...</td>\n",
              "      <td>Lou Ann Walker</td>\n",
              "      <td>1987</td>\n",
              "      <td>Perennial</td>\n",
              "      <td>http://images.amazon.com/images/P/0060914254.0...</td>\n",
              "      <td>1</td>\n",
              "    </tr>\n",
              "    <tr>\n",
              "      <th>471935</th>\n",
              "      <td>265313</td>\n",
              "      <td>0061056146</td>\n",
              "      <td>0</td>\n",
              "      <td>Fires of Eden</td>\n",
              "      <td>Dan Simmons</td>\n",
              "      <td>1995</td>\n",
              "      <td>Harper Mass Market Paperbacks (Mm)</td>\n",
              "      <td>http://images.amazon.com/images/P/0061056146.0...</td>\n",
              "      <td>5</td>\n",
              "    </tr>\n",
              "    <tr>\n",
              "      <th>307400</th>\n",
              "      <td>177458</td>\n",
              "      <td>1552093115</td>\n",
              "      <td>0</td>\n",
              "      <td>Off the Wall: Graffiti for the Soul</td>\n",
              "      <td>Ernie J. Zelinski</td>\n",
              "      <td>1999</td>\n",
              "      <td>Firefly Books Ltd</td>\n",
              "      <td>http://images.amazon.com/images/P/1552093115.0...</td>\n",
              "      <td>4</td>\n",
              "    </tr>\n",
              "  </tbody>\n",
              "</table>\n",
              "</div>"
            ],
            "text/plain": [
              "        user_id        ISBN  rating  \\\n",
              "266647   153662  0688168914       0   \n",
              "102989    55492  0679441018       0   \n",
              "317094   184299  0060914254       0   \n",
              "471935   265313  0061056146       0   \n",
              "307400   177458  1552093115       0   \n",
              "\n",
              "                                                    title             author  \\\n",
              "266647                              From This Day Forward      Cokie Roberts   \n",
              "102989  Memnoch the Devil : The Vampire Chronicles (Va...          ANNE RICE   \n",
              "317094  A Loss for Words : The Story of Deafness in a ...     Lou Ann Walker   \n",
              "471935                                      Fires of Eden        Dan Simmons   \n",
              "307400                Off the Wall: Graffiti for the Soul  Ernie J. Zelinski   \n",
              "\n",
              "        year                           publisher  \\\n",
              "266647  2000        William Morrow &amp; Company   \n",
              "102989  1995                               Knopf   \n",
              "317094  1987                           Perennial   \n",
              "471935  1995  Harper Mass Market Paperbacks (Mm)   \n",
              "307400  1999                   Firefly Books Ltd   \n",
              "\n",
              "                                                image_url  rating_count  \n",
              "266647  http://images.amazon.com/images/P/0688168914.0...             5  \n",
              "102989  http://images.amazon.com/images/P/0679441018.0...            28  \n",
              "317094  http://images.amazon.com/images/P/0060914254.0...             1  \n",
              "471935  http://images.amazon.com/images/P/0061056146.0...             5  \n",
              "307400  http://images.amazon.com/images/P/1552093115.0...             4  "
            ]
          },
          "execution_count": 27,
          "metadata": {},
          "output_type": "execute_result"
        }
      ],
      "source": [
        "merged_data = book_ratings.merge(count_book_ratings, on='title')\n",
        "merged_data.sample(5)"
      ]
    },
    {
      "cell_type": "code",
      "execution_count": 28,
      "metadata": {
        "colab": {
          "base_uri": "https://localhost:8080/"
        },
        "executionInfo": {
          "elapsed": 11,
          "status": "ok",
          "timestamp": 1718525873459,
          "user": {
            "displayName": "",
            "userId": ""
          },
          "user_tz": -60
        },
        "id": "msL4BWdABoKN",
        "outputId": "6c26dc5b-8933-4923-ea61-7ed08091988f"
      },
      "outputs": [
        {
          "data": {
            "text/plain": [
              "count    488742.000000\n",
              "mean         21.173474\n",
              "std          37.189202\n",
              "min           1.000000\n",
              "25%           2.000000\n",
              "50%           6.000000\n",
              "75%          22.000000\n",
              "max         365.000000\n",
              "Name: rating_count, dtype: float64"
            ]
          },
          "execution_count": 28,
          "metadata": {},
          "output_type": "execute_result"
        }
      ],
      "source": [
        "merged_data['rating_count'].describe()"
      ]
    },
    {
      "cell_type": "markdown",
      "metadata": {
        "id": "3FdvOK9ZCGv0"
      },
      "source": [
        "Fromm the frame above, the **average** **`rating_count`** is **21.2**. So, 25 will be used to filter merged_data by above average rating count."
      ]
    },
    {
      "cell_type": "code",
      "execution_count": 29,
      "metadata": {
        "executionInfo": {
          "elapsed": 8,
          "status": "ok",
          "timestamp": 1718525873459,
          "user": {
            "displayName": "",
            "userId": ""
          },
          "user_tz": -60
        },
        "id": "r9vxZRbABWE1"
      },
      "outputs": [],
      "source": [
        "merged_data = merged_data[merged_data['rating_count']>=25]"
      ]
    },
    {
      "cell_type": "code",
      "execution_count": 30,
      "metadata": {
        "colab": {
          "base_uri": "https://localhost:8080/"
        },
        "executionInfo": {
          "elapsed": 9,
          "status": "ok",
          "timestamp": 1718525873460,
          "user": {
            "displayName": "",
            "userId": ""
          },
          "user_tz": -60
        },
        "id": "sI252-MbJdEx",
        "outputId": "0ddc3cdc-bbd7-4cc1-f95f-3af6befbe973"
      },
      "outputs": [
        {
          "data": {
            "text/plain": [
              "Index(['user_id', 'ISBN', 'rating', 'title', 'author', 'year', 'publisher',\n",
              "       'image_url', 'rating_count'],\n",
              "      dtype='object')"
            ]
          },
          "execution_count": 30,
          "metadata": {},
          "output_type": "execute_result"
        }
      ],
      "source": [
        "merged_data.columns"
      ]
    },
    {
      "cell_type": "code",
      "execution_count": 31,
      "metadata": {
        "colab": {
          "base_uri": "https://localhost:8080/",
          "height": 321
        },
        "executionInfo": {
          "elapsed": 406,
          "status": "ok",
          "timestamp": 1718526990434,
          "user": {
            "displayName": "",
            "userId": ""
          },
          "user_tz": -60
        },
        "id": "b0aXTniqLngD",
        "outputId": "4f6bc94e-a6e6-4212-bbf2-072f37a5f30f"
      },
      "outputs": [
        {
          "data": {
            "text/html": [
              "<div>\n",
              "<style scoped>\n",
              "    .dataframe tbody tr th:only-of-type {\n",
              "        vertical-align: middle;\n",
              "    }\n",
              "\n",
              "    .dataframe tbody tr th {\n",
              "        vertical-align: top;\n",
              "    }\n",
              "\n",
              "    .dataframe thead th {\n",
              "        text-align: right;\n",
              "    }\n",
              "</style>\n",
              "<table border=\"1\" class=\"dataframe\">\n",
              "  <thead>\n",
              "    <tr style=\"text-align: right;\">\n",
              "      <th>user_id</th>\n",
              "      <th>254</th>\n",
              "      <th>2276</th>\n",
              "      <th>2766</th>\n",
              "      <th>2977</th>\n",
              "      <th>3363</th>\n",
              "      <th>3757</th>\n",
              "      <th>4017</th>\n",
              "      <th>4385</th>\n",
              "      <th>6242</th>\n",
              "      <th>6251</th>\n",
              "      <th>...</th>\n",
              "      <th>274004</th>\n",
              "      <th>274061</th>\n",
              "      <th>274301</th>\n",
              "      <th>274308</th>\n",
              "      <th>274808</th>\n",
              "      <th>275970</th>\n",
              "      <th>277427</th>\n",
              "      <th>277478</th>\n",
              "      <th>277639</th>\n",
              "      <th>278418</th>\n",
              "    </tr>\n",
              "    <tr>\n",
              "      <th>title</th>\n",
              "      <th></th>\n",
              "      <th></th>\n",
              "      <th></th>\n",
              "      <th></th>\n",
              "      <th></th>\n",
              "      <th></th>\n",
              "      <th></th>\n",
              "      <th></th>\n",
              "      <th></th>\n",
              "      <th></th>\n",
              "      <th></th>\n",
              "      <th></th>\n",
              "      <th></th>\n",
              "      <th></th>\n",
              "      <th></th>\n",
              "      <th></th>\n",
              "      <th></th>\n",
              "      <th></th>\n",
              "      <th></th>\n",
              "      <th></th>\n",
              "      <th></th>\n",
              "    </tr>\n",
              "  </thead>\n",
              "  <tbody>\n",
              "    <tr>\n",
              "      <th>Nerilka's Story (Dragonriders of Pern (Paperback))</th>\n",
              "      <td>NaN</td>\n",
              "      <td>NaN</td>\n",
              "      <td>NaN</td>\n",
              "      <td>NaN</td>\n",
              "      <td>NaN</td>\n",
              "      <td>NaN</td>\n",
              "      <td>NaN</td>\n",
              "      <td>NaN</td>\n",
              "      <td>NaN</td>\n",
              "      <td>NaN</td>\n",
              "      <td>...</td>\n",
              "      <td>NaN</td>\n",
              "      <td>10.0</td>\n",
              "      <td>NaN</td>\n",
              "      <td>NaN</td>\n",
              "      <td>NaN</td>\n",
              "      <td>NaN</td>\n",
              "      <td>NaN</td>\n",
              "      <td>NaN</td>\n",
              "      <td>NaN</td>\n",
              "      <td>NaN</td>\n",
              "    </tr>\n",
              "    <tr>\n",
              "      <th>Starship Troopers</th>\n",
              "      <td>NaN</td>\n",
              "      <td>NaN</td>\n",
              "      <td>NaN</td>\n",
              "      <td>NaN</td>\n",
              "      <td>NaN</td>\n",
              "      <td>NaN</td>\n",
              "      <td>NaN</td>\n",
              "      <td>NaN</td>\n",
              "      <td>NaN</td>\n",
              "      <td>0.0</td>\n",
              "      <td>...</td>\n",
              "      <td>NaN</td>\n",
              "      <td>NaN</td>\n",
              "      <td>NaN</td>\n",
              "      <td>NaN</td>\n",
              "      <td>NaN</td>\n",
              "      <td>NaN</td>\n",
              "      <td>NaN</td>\n",
              "      <td>NaN</td>\n",
              "      <td>NaN</td>\n",
              "      <td>NaN</td>\n",
              "    </tr>\n",
              "    <tr>\n",
              "      <th>Dead in the Water</th>\n",
              "      <td>0.0</td>\n",
              "      <td>NaN</td>\n",
              "      <td>NaN</td>\n",
              "      <td>NaN</td>\n",
              "      <td>NaN</td>\n",
              "      <td>NaN</td>\n",
              "      <td>NaN</td>\n",
              "      <td>NaN</td>\n",
              "      <td>NaN</td>\n",
              "      <td>NaN</td>\n",
              "      <td>...</td>\n",
              "      <td>NaN</td>\n",
              "      <td>NaN</td>\n",
              "      <td>NaN</td>\n",
              "      <td>NaN</td>\n",
              "      <td>NaN</td>\n",
              "      <td>NaN</td>\n",
              "      <td>NaN</td>\n",
              "      <td>NaN</td>\n",
              "      <td>NaN</td>\n",
              "      <td>NaN</td>\n",
              "    </tr>\n",
              "    <tr>\n",
              "      <th>Five Quarters of the Orange</th>\n",
              "      <td>NaN</td>\n",
              "      <td>NaN</td>\n",
              "      <td>8.0</td>\n",
              "      <td>NaN</td>\n",
              "      <td>0.0</td>\n",
              "      <td>NaN</td>\n",
              "      <td>NaN</td>\n",
              "      <td>NaN</td>\n",
              "      <td>6.0</td>\n",
              "      <td>NaN</td>\n",
              "      <td>...</td>\n",
              "      <td>6.0</td>\n",
              "      <td>NaN</td>\n",
              "      <td>NaN</td>\n",
              "      <td>NaN</td>\n",
              "      <td>NaN</td>\n",
              "      <td>0.0</td>\n",
              "      <td>NaN</td>\n",
              "      <td>NaN</td>\n",
              "      <td>NaN</td>\n",
              "      <td>NaN</td>\n",
              "    </tr>\n",
              "    <tr>\n",
              "      <th>Puerto Vallarta Squeeze</th>\n",
              "      <td>NaN</td>\n",
              "      <td>NaN</td>\n",
              "      <td>NaN</td>\n",
              "      <td>NaN</td>\n",
              "      <td>NaN</td>\n",
              "      <td>NaN</td>\n",
              "      <td>NaN</td>\n",
              "      <td>NaN</td>\n",
              "      <td>NaN</td>\n",
              "      <td>NaN</td>\n",
              "      <td>...</td>\n",
              "      <td>NaN</td>\n",
              "      <td>NaN</td>\n",
              "      <td>NaN</td>\n",
              "      <td>NaN</td>\n",
              "      <td>NaN</td>\n",
              "      <td>NaN</td>\n",
              "      <td>NaN</td>\n",
              "      <td>NaN</td>\n",
              "      <td>NaN</td>\n",
              "      <td>NaN</td>\n",
              "    </tr>\n",
              "  </tbody>\n",
              "</table>\n",
              "<p>5 rows × 901 columns</p>\n",
              "</div>"
            ],
            "text/plain": [
              "user_id                                             254     2276    2766    \\\n",
              "title                                                                        \n",
              "Nerilka's Story (Dragonriders of Pern (Paperback))     NaN     NaN     NaN   \n",
              "Starship Troopers                                      NaN     NaN     NaN   \n",
              "Dead in the Water                                      0.0     NaN     NaN   \n",
              "Five Quarters of the Orange                            NaN     NaN     8.0   \n",
              "Puerto Vallarta Squeeze                                NaN     NaN     NaN   \n",
              "\n",
              "user_id                                             2977    3363    3757    \\\n",
              "title                                                                        \n",
              "Nerilka's Story (Dragonriders of Pern (Paperback))     NaN     NaN     NaN   \n",
              "Starship Troopers                                      NaN     NaN     NaN   \n",
              "Dead in the Water                                      NaN     NaN     NaN   \n",
              "Five Quarters of the Orange                            NaN     0.0     NaN   \n",
              "Puerto Vallarta Squeeze                                NaN     NaN     NaN   \n",
              "\n",
              "user_id                                             4017    4385    6242    \\\n",
              "title                                                                        \n",
              "Nerilka's Story (Dragonriders of Pern (Paperback))     NaN     NaN     NaN   \n",
              "Starship Troopers                                      NaN     NaN     NaN   \n",
              "Dead in the Water                                      NaN     NaN     NaN   \n",
              "Five Quarters of the Orange                            NaN     NaN     6.0   \n",
              "Puerto Vallarta Squeeze                                NaN     NaN     NaN   \n",
              "\n",
              "user_id                                             6251    ...  274004  \\\n",
              "title                                                       ...           \n",
              "Nerilka's Story (Dragonriders of Pern (Paperback))     NaN  ...     NaN   \n",
              "Starship Troopers                                      0.0  ...     NaN   \n",
              "Dead in the Water                                      NaN  ...     NaN   \n",
              "Five Quarters of the Orange                            NaN  ...     6.0   \n",
              "Puerto Vallarta Squeeze                                NaN  ...     NaN   \n",
              "\n",
              "user_id                                             274061  274301  274308  \\\n",
              "title                                                                        \n",
              "Nerilka's Story (Dragonriders of Pern (Paperback))    10.0     NaN     NaN   \n",
              "Starship Troopers                                      NaN     NaN     NaN   \n",
              "Dead in the Water                                      NaN     NaN     NaN   \n",
              "Five Quarters of the Orange                            NaN     NaN     NaN   \n",
              "Puerto Vallarta Squeeze                                NaN     NaN     NaN   \n",
              "\n",
              "user_id                                             274808  275970  277427  \\\n",
              "title                                                                        \n",
              "Nerilka's Story (Dragonriders of Pern (Paperback))     NaN     NaN     NaN   \n",
              "Starship Troopers                                      NaN     NaN     NaN   \n",
              "Dead in the Water                                      NaN     NaN     NaN   \n",
              "Five Quarters of the Orange                            NaN     0.0     NaN   \n",
              "Puerto Vallarta Squeeze                                NaN     NaN     NaN   \n",
              "\n",
              "user_id                                             277478  277639  278418  \n",
              "title                                                                       \n",
              "Nerilka's Story (Dragonriders of Pern (Paperback))     NaN     NaN     NaN  \n",
              "Starship Troopers                                      NaN     NaN     NaN  \n",
              "Dead in the Water                                      NaN     NaN     NaN  \n",
              "Five Quarters of the Orange                            NaN     NaN     NaN  \n",
              "Puerto Vallarta Squeeze                                NaN     NaN     NaN  \n",
              "\n",
              "[5 rows x 901 columns]"
            ]
          },
          "execution_count": 31,
          "metadata": {},
          "output_type": "execute_result"
        }
      ],
      "source": [
        "books_pivot_table = merged_data.pivot_table(columns='user_id', index='title', values='rating')\n",
        "books_pivot_table.sample(5)"
      ]
    },
    {
      "cell_type": "code",
      "execution_count": 32,
      "metadata": {
        "colab": {
          "base_uri": "https://localhost:8080/"
        },
        "executionInfo": {
          "elapsed": 2,
          "status": "ok",
          "timestamp": 1718526990736,
          "user": {
            "displayName": "",
            "userId": ""
          },
          "user_tz": -60
        },
        "id": "dPexgjbXMH0F",
        "outputId": "b56c3380-9414-43c4-8e88-793b16e34311"
      },
      "outputs": [
        {
          "data": {
            "text/plain": [
              "(2298, 901)"
            ]
          },
          "execution_count": 32,
          "metadata": {},
          "output_type": "execute_result"
        }
      ],
      "source": [
        "books_pivot_table.shape"
      ]
    },
    {
      "cell_type": "markdown",
      "metadata": {
        "id": "MTF2hck-EjAw"
      },
      "source": [
        "### Compressing the Pivot Table\n",
        "\n",
        "The pivot table is converted to a Compressed Sparse Row (CSR) matrix to efficiently handle the sparsity of the data, which is common in recommendation systems. fill NA values with 0 and compress table using the `Compress Sparse Row matirx` csr_matrix function."
      ]
    },
    {
      "cell_type": "code",
      "execution_count": 33,
      "metadata": {
        "colab": {
          "base_uri": "https://localhost:8080/",
          "height": 505
        },
        "executionInfo": {
          "elapsed": 459,
          "status": "ok",
          "timestamp": 1718526993822,
          "user": {
            "displayName": "",
            "userId": ""
          },
          "user_tz": -60
        },
        "id": "OSa7VWfRJXwg",
        "outputId": "5d06de5b-19df-4d35-f3b7-d292005f755d"
      },
      "outputs": [
        {
          "data": {
            "text/html": [
              "<div>\n",
              "<style scoped>\n",
              "    .dataframe tbody tr th:only-of-type {\n",
              "        vertical-align: middle;\n",
              "    }\n",
              "\n",
              "    .dataframe tbody tr th {\n",
              "        vertical-align: top;\n",
              "    }\n",
              "\n",
              "    .dataframe thead th {\n",
              "        text-align: right;\n",
              "    }\n",
              "</style>\n",
              "<table border=\"1\" class=\"dataframe\">\n",
              "  <thead>\n",
              "    <tr style=\"text-align: right;\">\n",
              "      <th>user_id</th>\n",
              "      <th>254</th>\n",
              "      <th>2276</th>\n",
              "      <th>2766</th>\n",
              "      <th>2977</th>\n",
              "      <th>3363</th>\n",
              "      <th>3757</th>\n",
              "      <th>4017</th>\n",
              "      <th>4385</th>\n",
              "      <th>6242</th>\n",
              "      <th>6251</th>\n",
              "      <th>...</th>\n",
              "      <th>274004</th>\n",
              "      <th>274061</th>\n",
              "      <th>274301</th>\n",
              "      <th>274308</th>\n",
              "      <th>274808</th>\n",
              "      <th>275970</th>\n",
              "      <th>277427</th>\n",
              "      <th>277478</th>\n",
              "      <th>277639</th>\n",
              "      <th>278418</th>\n",
              "    </tr>\n",
              "    <tr>\n",
              "      <th>title</th>\n",
              "      <th></th>\n",
              "      <th></th>\n",
              "      <th></th>\n",
              "      <th></th>\n",
              "      <th></th>\n",
              "      <th></th>\n",
              "      <th></th>\n",
              "      <th></th>\n",
              "      <th></th>\n",
              "      <th></th>\n",
              "      <th></th>\n",
              "      <th></th>\n",
              "      <th></th>\n",
              "      <th></th>\n",
              "      <th></th>\n",
              "      <th></th>\n",
              "      <th></th>\n",
              "      <th></th>\n",
              "      <th></th>\n",
              "      <th></th>\n",
              "      <th></th>\n",
              "    </tr>\n",
              "  </thead>\n",
              "  <tbody>\n",
              "    <tr>\n",
              "      <th>A Place Called Freedom</th>\n",
              "      <td>0.0</td>\n",
              "      <td>0.0</td>\n",
              "      <td>0.0</td>\n",
              "      <td>0.0</td>\n",
              "      <td>0.0</td>\n",
              "      <td>0.0</td>\n",
              "      <td>0.0</td>\n",
              "      <td>0.0</td>\n",
              "      <td>0.0</td>\n",
              "      <td>0.0</td>\n",
              "      <td>...</td>\n",
              "      <td>0.0</td>\n",
              "      <td>0.0</td>\n",
              "      <td>0.0</td>\n",
              "      <td>0.0</td>\n",
              "      <td>0.0</td>\n",
              "      <td>0.0</td>\n",
              "      <td>0.0</td>\n",
              "      <td>0.0</td>\n",
              "      <td>0.0</td>\n",
              "      <td>0.0</td>\n",
              "    </tr>\n",
              "    <tr>\n",
              "      <th>The Dragon Reborn (The Wheel of Time, Book 3)</th>\n",
              "      <td>0.0</td>\n",
              "      <td>8.0</td>\n",
              "      <td>0.0</td>\n",
              "      <td>0.0</td>\n",
              "      <td>0.0</td>\n",
              "      <td>0.0</td>\n",
              "      <td>0.0</td>\n",
              "      <td>0.0</td>\n",
              "      <td>0.0</td>\n",
              "      <td>0.0</td>\n",
              "      <td>...</td>\n",
              "      <td>0.0</td>\n",
              "      <td>0.0</td>\n",
              "      <td>0.0</td>\n",
              "      <td>0.0</td>\n",
              "      <td>0.0</td>\n",
              "      <td>0.0</td>\n",
              "      <td>0.0</td>\n",
              "      <td>0.0</td>\n",
              "      <td>0.0</td>\n",
              "      <td>0.0</td>\n",
              "    </tr>\n",
              "    <tr>\n",
              "      <th>Blue Moon</th>\n",
              "      <td>0.0</td>\n",
              "      <td>0.0</td>\n",
              "      <td>0.0</td>\n",
              "      <td>0.0</td>\n",
              "      <td>0.0</td>\n",
              "      <td>0.0</td>\n",
              "      <td>0.0</td>\n",
              "      <td>0.0</td>\n",
              "      <td>0.0</td>\n",
              "      <td>0.0</td>\n",
              "      <td>...</td>\n",
              "      <td>0.0</td>\n",
              "      <td>0.0</td>\n",
              "      <td>0.0</td>\n",
              "      <td>0.0</td>\n",
              "      <td>0.0</td>\n",
              "      <td>0.0</td>\n",
              "      <td>0.0</td>\n",
              "      <td>0.0</td>\n",
              "      <td>0.0</td>\n",
              "      <td>0.0</td>\n",
              "    </tr>\n",
              "    <tr>\n",
              "      <th>Wild Horses</th>\n",
              "      <td>0.0</td>\n",
              "      <td>0.0</td>\n",
              "      <td>0.0</td>\n",
              "      <td>0.0</td>\n",
              "      <td>0.0</td>\n",
              "      <td>0.0</td>\n",
              "      <td>0.0</td>\n",
              "      <td>0.0</td>\n",
              "      <td>0.0</td>\n",
              "      <td>0.0</td>\n",
              "      <td>...</td>\n",
              "      <td>0.0</td>\n",
              "      <td>0.0</td>\n",
              "      <td>0.0</td>\n",
              "      <td>0.0</td>\n",
              "      <td>0.0</td>\n",
              "      <td>0.0</td>\n",
              "      <td>0.0</td>\n",
              "      <td>0.0</td>\n",
              "      <td>0.0</td>\n",
              "      <td>0.0</td>\n",
              "    </tr>\n",
              "    <tr>\n",
              "      <th>Leaving Home</th>\n",
              "      <td>0.0</td>\n",
              "      <td>0.0</td>\n",
              "      <td>0.0</td>\n",
              "      <td>0.0</td>\n",
              "      <td>0.0</td>\n",
              "      <td>0.0</td>\n",
              "      <td>0.0</td>\n",
              "      <td>0.0</td>\n",
              "      <td>0.0</td>\n",
              "      <td>9.0</td>\n",
              "      <td>...</td>\n",
              "      <td>0.0</td>\n",
              "      <td>0.0</td>\n",
              "      <td>0.0</td>\n",
              "      <td>0.0</td>\n",
              "      <td>0.0</td>\n",
              "      <td>0.0</td>\n",
              "      <td>0.0</td>\n",
              "      <td>0.0</td>\n",
              "      <td>0.0</td>\n",
              "      <td>0.0</td>\n",
              "    </tr>\n",
              "    <tr>\n",
              "      <th>Field of Thirteen</th>\n",
              "      <td>0.0</td>\n",
              "      <td>0.0</td>\n",
              "      <td>0.0</td>\n",
              "      <td>0.0</td>\n",
              "      <td>0.0</td>\n",
              "      <td>0.0</td>\n",
              "      <td>0.0</td>\n",
              "      <td>0.0</td>\n",
              "      <td>0.0</td>\n",
              "      <td>0.0</td>\n",
              "      <td>...</td>\n",
              "      <td>0.0</td>\n",
              "      <td>0.0</td>\n",
              "      <td>0.0</td>\n",
              "      <td>0.0</td>\n",
              "      <td>0.0</td>\n",
              "      <td>0.0</td>\n",
              "      <td>0.0</td>\n",
              "      <td>0.0</td>\n",
              "      <td>0.0</td>\n",
              "      <td>0.0</td>\n",
              "    </tr>\n",
              "    <tr>\n",
              "      <th>Beauty's Release</th>\n",
              "      <td>0.0</td>\n",
              "      <td>0.0</td>\n",
              "      <td>0.0</td>\n",
              "      <td>0.0</td>\n",
              "      <td>0.0</td>\n",
              "      <td>0.0</td>\n",
              "      <td>0.0</td>\n",
              "      <td>0.0</td>\n",
              "      <td>0.0</td>\n",
              "      <td>0.0</td>\n",
              "      <td>...</td>\n",
              "      <td>0.0</td>\n",
              "      <td>0.0</td>\n",
              "      <td>0.0</td>\n",
              "      <td>0.0</td>\n",
              "      <td>0.0</td>\n",
              "      <td>0.0</td>\n",
              "      <td>0.0</td>\n",
              "      <td>0.0</td>\n",
              "      <td>0.0</td>\n",
              "      <td>0.0</td>\n",
              "    </tr>\n",
              "  </tbody>\n",
              "</table>\n",
              "<p>7 rows × 901 columns</p>\n",
              "</div>"
            ],
            "text/plain": [
              "user_id                                        254     2276    2766    2977    \\\n",
              "title                                                                           \n",
              "A Place Called Freedom                            0.0     0.0     0.0     0.0   \n",
              "The Dragon Reborn (The Wheel of Time, Book 3)     0.0     8.0     0.0     0.0   \n",
              "Blue Moon                                         0.0     0.0     0.0     0.0   \n",
              "Wild Horses                                       0.0     0.0     0.0     0.0   \n",
              "Leaving Home                                      0.0     0.0     0.0     0.0   \n",
              "Field of Thirteen                                 0.0     0.0     0.0     0.0   \n",
              "Beauty's Release                                  0.0     0.0     0.0     0.0   \n",
              "\n",
              "user_id                                        3363    3757    4017    4385    \\\n",
              "title                                                                           \n",
              "A Place Called Freedom                            0.0     0.0     0.0     0.0   \n",
              "The Dragon Reborn (The Wheel of Time, Book 3)     0.0     0.0     0.0     0.0   \n",
              "Blue Moon                                         0.0     0.0     0.0     0.0   \n",
              "Wild Horses                                       0.0     0.0     0.0     0.0   \n",
              "Leaving Home                                      0.0     0.0     0.0     0.0   \n",
              "Field of Thirteen                                 0.0     0.0     0.0     0.0   \n",
              "Beauty's Release                                  0.0     0.0     0.0     0.0   \n",
              "\n",
              "user_id                                        6242    6251    ...  274004  \\\n",
              "title                                                          ...           \n",
              "A Place Called Freedom                            0.0     0.0  ...     0.0   \n",
              "The Dragon Reborn (The Wheel of Time, Book 3)     0.0     0.0  ...     0.0   \n",
              "Blue Moon                                         0.0     0.0  ...     0.0   \n",
              "Wild Horses                                       0.0     0.0  ...     0.0   \n",
              "Leaving Home                                      0.0     9.0  ...     0.0   \n",
              "Field of Thirteen                                 0.0     0.0  ...     0.0   \n",
              "Beauty's Release                                  0.0     0.0  ...     0.0   \n",
              "\n",
              "user_id                                        274061  274301  274308  274808  \\\n",
              "title                                                                           \n",
              "A Place Called Freedom                            0.0     0.0     0.0     0.0   \n",
              "The Dragon Reborn (The Wheel of Time, Book 3)     0.0     0.0     0.0     0.0   \n",
              "Blue Moon                                         0.0     0.0     0.0     0.0   \n",
              "Wild Horses                                       0.0     0.0     0.0     0.0   \n",
              "Leaving Home                                      0.0     0.0     0.0     0.0   \n",
              "Field of Thirteen                                 0.0     0.0     0.0     0.0   \n",
              "Beauty's Release                                  0.0     0.0     0.0     0.0   \n",
              "\n",
              "user_id                                        275970  277427  277478  277639  \\\n",
              "title                                                                           \n",
              "A Place Called Freedom                            0.0     0.0     0.0     0.0   \n",
              "The Dragon Reborn (The Wheel of Time, Book 3)     0.0     0.0     0.0     0.0   \n",
              "Blue Moon                                         0.0     0.0     0.0     0.0   \n",
              "Wild Horses                                       0.0     0.0     0.0     0.0   \n",
              "Leaving Home                                      0.0     0.0     0.0     0.0   \n",
              "Field of Thirteen                                 0.0     0.0     0.0     0.0   \n",
              "Beauty's Release                                  0.0     0.0     0.0     0.0   \n",
              "\n",
              "user_id                                        278418  \n",
              "title                                                  \n",
              "A Place Called Freedom                            0.0  \n",
              "The Dragon Reborn (The Wheel of Time, Book 3)     0.0  \n",
              "Blue Moon                                         0.0  \n",
              "Wild Horses                                       0.0  \n",
              "Leaving Home                                      0.0  \n",
              "Field of Thirteen                                 0.0  \n",
              "Beauty's Release                                  0.0  \n",
              "\n",
              "[7 rows x 901 columns]"
            ]
          },
          "execution_count": 33,
          "metadata": {},
          "output_type": "execute_result"
        }
      ],
      "source": [
        "books_pivot_table.fillna(0, inplace=True)\n",
        "books_pivot_table.sample(7)"
      ]
    },
    {
      "cell_type": "code",
      "execution_count": 34,
      "metadata": {
        "colab": {
          "base_uri": "https://localhost:8080/"
        },
        "executionInfo": {
          "elapsed": 4,
          "status": "ok",
          "timestamp": 1718526262531,
          "user": {
            "displayName": "",
            "userId": ""
          },
          "user_tz": -60
        },
        "id": "1_-N3PnTBelm",
        "outputId": "ab995599-5a80-43b5-901d-149028f6b88b"
      },
      "outputs": [
        {
          "data": {
            "text/plain": [
              "27194"
            ]
          },
          "execution_count": 34,
          "metadata": {},
          "output_type": "execute_result"
        }
      ],
      "source": [
        "compressed_table = csr_matrix(books_pivot_table)\n",
        "compressed_table.size"
      ]
    },
    {
      "cell_type": "markdown",
      "metadata": {
        "id": "5bkJO9ztE_xX"
      },
      "source": [
        "# 3. ML Modelling\n",
        "\n",
        "Training the Nearest Neighbors Model:\n",
        "A Nearest Neighbors model is trained on the compressed pivot table. This model will be used to find books that are similar to a given book based on user ratings."
      ]
    },
    {
      "cell_type": "code",
      "execution_count": 35,
      "metadata": {
        "executionInfo": {
          "elapsed": 401,
          "status": "ok",
          "timestamp": 1718528190005,
          "user": {
            "displayName": "",
            "userId": ""
          },
          "user_tz": -60
        },
        "id": "A9M9fN02EaX-"
      },
      "outputs": [],
      "source": [
        "from sklearn.neighbors import NearestNeighbors\n",
        "\n",
        "nn_model = NearestNeighbors(algorithm='brute')\n",
        "nn_model.fit(compressed_table)\n",
        "distances, recommended_users = nn_model.kneighbors(books_pivot_table.iloc[254, :].values.reshape(1,-1), n_neighbors=6)"
      ]
    },
    {
      "cell_type": "code",
      "execution_count": 36,
      "metadata": {
        "colab": {
          "base_uri": "https://localhost:8080/"
        },
        "executionInfo": {
          "elapsed": 2,
          "status": "ok",
          "timestamp": 1718528190306,
          "user": {
            "displayName": "",
            "userId": ""
          },
          "user_tz": -60
        },
        "id": "qJin3Y3GHXla",
        "outputId": "0fd12b7b-afe9-4551-8e4a-aefcfc4d11ef"
      },
      "outputs": [
        {
          "data": {
            "text/plain": [
              "(array([[ 254,  774, 2176,  252,  130,  404]], dtype=int64),\n",
              " array([[ 0.        , 13.22875656, 14.52583905, 15.62049935, 16.03121954,\n",
              "         16.15549442]]))"
            ]
          },
          "execution_count": 36,
          "metadata": {},
          "output_type": "execute_result"
        }
      ],
      "source": [
        "recommended_users, distances"
      ]
    },
    {
      "cell_type": "code",
      "execution_count": 37,
      "metadata": {
        "colab": {
          "base_uri": "https://localhost:8080/"
        },
        "executionInfo": {
          "elapsed": 363,
          "status": "ok",
          "timestamp": 1718528197302,
          "user": {
            "displayName": "",
            "userId": ""
          },
          "user_tz": -60
        },
        "id": "K0FhXVZ-KH2h",
        "outputId": "b4069452-9199-4de3-c680-5de856c2449f"
      },
      "outputs": [
        {
          "name": "stdout",
          "output_type": "stream",
          "text": [
            "Index(['Bloodstream', 'Honor Among Thieves',\n",
            "       'Under the Tuscan Sun : At Home in Italy',\n",
            "       'Blood and Gold (Rice, Anne, Vampire Chronicles.)', 'Always a Thief',\n",
            "       'Critical Judgment'],\n",
            "      dtype='object', name='title')\n"
          ]
        }
      ],
      "source": [
        "for i in range(len(distances)):\n",
        "  print(books_pivot_table.index[recommended_users[i]])"
      ]
    },
    {
      "cell_type": "code",
      "execution_count": 38,
      "metadata": {
        "executionInfo": {
          "elapsed": 278,
          "status": "ok",
          "timestamp": 1718528204599,
          "user": {
            "displayName": "",
            "userId": ""
          },
          "user_tz": -60
        },
        "id": "Pg40NfOeGSWe"
      },
      "outputs": [
        {
          "data": {
            "text/plain": [
              "array(['Lasher: Lives of the Mayfair Witches (Lives of the Mayfair Witches)',\n",
              "       'How the Garcia Girls Lost Their Accents (Plume Contemporary Fiction)',\n",
              "       'A Wind in the Door', 'The House on Hope Street',\n",
              "       \"Perfect Evil (Maggie O'Dell Novels (Paperback))\"], dtype=object)"
            ]
          },
          "execution_count": 38,
          "metadata": {},
          "output_type": "execute_result"
        }
      ],
      "source": [
        "book_titles = books_pivot_table.index\n",
        "np.random.choice(book_titles, 5)"
      ]
    },
    {
      "cell_type": "code",
      "execution_count": 39,
      "metadata": {
        "colab": {
          "base_uri": "https://localhost:8080/"
        },
        "executionInfo": {
          "elapsed": 5,
          "status": "ok",
          "timestamp": 1718528148037,
          "user": {
            "displayName": "",
            "userId": ""
          },
          "user_tz": -60
        },
        "id": "Vy_rNDCjNE2Q",
        "outputId": "03792966-ccad-4986-d3f6-4ca5492c43b2"
      },
      "outputs": [
        {
          "data": {
            "text/plain": [
              "(2298, 901)"
            ]
          },
          "execution_count": 39,
          "metadata": {},
          "output_type": "execute_result"
        }
      ],
      "source": [
        "compressed_table.toarray().shape"
      ]
    },
    {
      "cell_type": "markdown",
      "metadata": {},
      "source": [
        "# 4. Saving Models and Data\n",
        "\n",
        "The trained model and preprocessed data (e.g., the pivot table and book metadata) are saved to disk. This allows for easy loading and use of the model for generating recommendations without retraining."
      ]
    },
    {
      "cell_type": "code",
      "execution_count": 86,
      "metadata": {},
      "outputs": [
        {
          "data": {
            "text/plain": [
              "['artifacts/books_pivot_table.pkl']"
            ]
          },
          "execution_count": 86,
          "metadata": {},
          "output_type": "execute_result"
        }
      ],
      "source": [
        "import os\n",
        "from joblib import dump\n",
        "\n",
        "os.makedirs('artifacts', exist_ok=True)\n",
        "\n",
        "dump(nn_model, 'artifacts/model.pkl')\n",
        "dump(book_titles, 'artifacts/book_titles.pkl')\n",
        "dump(merged_data, 'artifacts/merged_data.pkl')\n",
        "dump(books_pivot_table, 'artifacts/books_pivot_table.pkl')"
      ]
    },
    {
      "cell_type": "markdown",
      "metadata": {},
      "source": [
        "# 5. Recommendation Function\n",
        "A function is implemented to generate book recommendations based on a given book title. The function:\n",
        "\n",
        " - Loads the trained model and pivot table.\n",
        " - Finds the index of the given book in the pivot table.\n",
        " - Uses the Nearest Neighbors model to find similar books.\n",
        " - Prints the recommended book titles.\n",
        "\n",
        "The recommendations are based on the similarity of user ratings between books. If the book is not found in the dataset, the function handles this gracefully by informing the user."
      ]
    },
    {
      "cell_type": "code",
      "execution_count": 77,
      "metadata": {},
      "outputs": [
        {
          "name": "stdout",
          "output_type": "stream",
          "text": [
            "Book recommendations for \"2010: Odyssey Two\":\n",
            "False Pretenses\n",
            "Another City, Not My Own: A Novel in the Form of a Memoir\n",
            "The Bridge Across Forever\n",
            "Man From St Petersburg\n",
            "Acts of Love\n",
            "Night Moves (Tom Clancy's Net Force, No. 3)\n",
            "\n",
            "Book recommendations for \"Harry Potter and the Chamber of Secrets (Book 2)\":\n",
            "Harry Potter and the Prisoner of Azkaban (Book 3)\n",
            "Harry Potter and the Goblet of Fire (Book 4)\n",
            "Harry Potter and the Sorcerer's Stone (Book 1)\n",
            "The Shelters of Stone (Earth's Children Series, No 5)\n",
            "The Mammoth Hunters (Auel, Jean M. , Earth's Children.)\n",
            "Before and After\n",
            "\n",
            "Book recommendations for \"Trunk Music (Detective Harry Bosch Mysteries)\":\n",
            "Acts of Love\n",
            "House\n",
            "The Apocalypse Watch\n",
            "Night Moves (Tom Clancy's Net Force, No. 3)\n",
            "The Legend of Bagger Vance\n",
            "Texas Rich\n",
            "\n"
          ]
        }
      ],
      "source": [
        "def recommend_books(book_name: str):\n",
        "\tmodel = pickle.load(open('artifacts/model.pkl', 'rb'))\n",
        "\tbook_pivot = pickle.load(open('artifacts/books_pivot_table.pkl', 'rb'))\n",
        "\tbook_idx = np.where(books_pivot_table.index == book_name)[0][0]\n",
        "\tdata = books_pivot_table.iloc[book_idx].values.reshape(1,-1)\n",
        "\tdistances, recommended_users = model.kneighbors(data, n_neighbors=7)\n",
        "\n",
        "\tfor i in range(len(distances)):\n",
        "\t\tbook_title = book_pivot.index[recommended_users[i]]\n",
        "\n",
        "\tprint(f'Book recommendations for \"{book_name}\":')\n",
        "\tfor title in book_title[1:]:\n",
        "\t\tprint(title)\n",
        "\tprint()\n",
        "\n",
        "recommend_books('2010: Odyssey Two')\n",
        "recommend_books('Harry Potter and the Chamber of Secrets (Book 2)')\n",
        "recommend_books('Trunk Music (Detective Harry Bosch Mysteries)')"
      ]
    }
  ],
  "metadata": {
    "colab": {
      "cell_execution_strategy": "setup",
      "name": "rec_systems",
      "provenance": []
    },
    "kernelspec": {
      "display_name": "Python 3",
      "name": "python3"
    },
    "language_info": {
      "codemirror_mode": {
        "name": "ipython",
        "version": 3
      },
      "file_extension": ".py",
      "mimetype": "text/x-python",
      "name": "python",
      "nbconvert_exporter": "python",
      "pygments_lexer": "ipython3",
      "version": "3.11.5"
    }
  },
  "nbformat": 4,
  "nbformat_minor": 0
}
